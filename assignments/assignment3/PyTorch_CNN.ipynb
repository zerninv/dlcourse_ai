{
 "cells": [
  {
   "cell_type": "markdown",
   "metadata": {
    "id": "Ul_S-9sIrUkw",
    "colab_type": "text"
   },
   "source": [
    "# Задание 3.2 - сверточные нейронные сети (CNNs) в PyTorch\n",
    "\n",
    "Это упражнение мы буде выполнять в Google Colab - https://colab.research.google.com/  \n",
    "Google Colab позволяет запускать код в notebook в облаке Google, где можно воспользоваться бесплатным GPU!  \n",
    "\n",
    "Авторы курса благодарят компанию Google и надеятся, что праздник не закончится.\n",
    "\n",
    "Туториал по настройке Google Colab:  \n",
    "https://medium.com/deep-learning-turkey/google-colab-free-gpu-tutorial-e113627b9f5d  \n",
    "(Keras инсталлировать не нужно, наш notebook сам установит PyTorch)\n"
   ]
  },
  {
   "cell_type": "code",
   "execution_count": 5,
   "metadata": {
    "colab_type": "code",
    "id": "FcXBeP1O7cnY",
    "colab": {
     "base_uri": "https://localhost:8080/",
     "height": 538.0
    },
    "outputId": "5e1d6416-ca16-4dd2-a1c2-589f43969508",
    "executionInfo": {
     "status": "ok",
     "timestamp": 1.554056711415E12,
     "user_tz": -180.0,
     "elapsed": 31731.0,
     "user": {
      "displayName": "Dissatisfied Сustomer",
      "photoUrl": "",
      "userId": "18374096525467064227"
     }
    }
   },
   "outputs": [
    {
     "name": "stdout",
     "output_type": "stream",
     "text": [
      "Requirement already satisfied: torch in /usr/local/lib/python3.6/dist-packages (1.0.1.post2)\n",
      "Requirement already satisfied: torchvision in /usr/local/lib/python3.6/dist-packages (0.2.2.post3)\n",
      "Requirement already satisfied: pillow>=4.1.1 in /usr/local/lib/python3.6/dist-packages (from torchvision) (4.1.1)\n",
      "Requirement already satisfied: six in /usr/local/lib/python3.6/dist-packages (from torchvision) (1.11.0)\n",
      "Requirement already satisfied: numpy in /usr/local/lib/python3.6/dist-packages (from torchvision) (1.14.6)\n",
      "Requirement already satisfied: olefile in /usr/local/lib/python3.6/dist-packages (from pillow>=4.1.1->torchvision) (0.46)\n",
      "--2019-03-31 18:24:45--  http://ufldl.stanford.edu/housenumbers/train_32x32.mat\n",
      "Resolving ufldl.stanford.edu (ufldl.stanford.edu)... 171.64.68.10\n",
      "Connecting to ufldl.stanford.edu (ufldl.stanford.edu)|171.64.68.10|:80... connected.\n",
      "HTTP request sent, awaiting response... 200 OK\n",
      "Length: 182040794 (174M) [text/plain]\n",
      "Saving to: ‘train_32x32.mat’\n",
      "\n",
      "train_32x32.mat     100%[===================>] 173.61M  11.1MB/s    in 18s     \n",
      "\n",
      "2019-03-31 18:25:03 (9.91 MB/s) - ‘train_32x32.mat’ saved [182040794/182040794]\n",
      "\n",
      "--2019-03-31 18:25:03--  http://ufldl.stanford.edu/housenumbers/test_32x32.mat\n",
      "Reusing existing connection to ufldl.stanford.edu:80.\n",
      "HTTP request sent, awaiting response... 200 OK\n",
      "Length: 64275384 (61M) [text/plain]\n",
      "Saving to: ‘test_32x32.mat’\n",
      "\n",
      "test_32x32.mat      100%[===================>]  61.30M  10.5MB/s    in 6.4s    \n",
      "\n",
      "2019-03-31 18:25:09 (9.57 MB/s) - ‘test_32x32.mat’ saved [64275384/64275384]\n",
      "\n",
      "FINISHED --2019-03-31 18:25:09--\n",
      "Total wall clock time: 25s\n",
      "Downloaded: 2 files, 235M in 24s (9.81 MB/s)\n"
     ]
    }
   ],
   "source": [
    "# Intstall PyTorch and download data\n",
    "!pip3 install torch torchvision\n",
    "\n",
    "!wget -c http://ufldl.stanford.edu/housenumbers/train_32x32.mat http://ufldl.stanford.edu/housenumbers/test_32x32.mat"
   ]
  },
  {
   "cell_type": "code",
   "execution_count": 0,
   "metadata": {
    "colab_type": "code",
    "id": "-afwWw-Q85vD",
    "colab": {}
   },
   "outputs": [],
   "source": [
    "from collections import namedtuple\n",
    "\n",
    "import matplotlib.pyplot as plt\n",
    "import numpy as np\n",
    "import PIL\n",
    "import torch\n",
    "import torch.nn as nn\n",
    "import torch.optim as optim\n",
    "import torchvision.datasets as dset\n",
    "from torch.utils.data.sampler import SubsetRandomSampler\n",
    "\n",
    "from torchvision import transforms"
   ]
  },
  {
   "cell_type": "code",
   "execution_count": 0,
   "metadata": {
    "colab_type": "code",
    "id": "NNU-OD9O9ltP",
    "colab": {}
   },
   "outputs": [],
   "source": [
    "device = torch.device(\"cuda:0\") # Let's make sure GPU is available!"
   ]
  },
  {
   "cell_type": "markdown",
   "metadata": {
    "id": "0xrm9Gd_rUlc",
    "colab_type": "text"
   },
   "source": [
    "# Загружаем данные"
   ]
  },
  {
   "cell_type": "code",
   "execution_count": 0,
   "metadata": {
    "colab_type": "code",
    "id": "YAvkoRx-9FsP",
    "colab": {}
   },
   "outputs": [],
   "source": [
    "# First, lets load the dataset\n",
    "data_train = dset.SVHN('./', \n",
    "                       transform=transforms.Compose([\n",
    "                           transforms.ToTensor(),\n",
    "                           transforms.Normalize(mean=[0.43,0.44,0.47],\n",
    "                                               std=[0.20,0.20,0.20])                           \n",
    "                       ])\n",
    "                      )\n",
    "data_test = dset.SVHN('./', split='test', transform=transforms.Compose([\n",
    "                           transforms.ToTensor(),\n",
    "                           transforms.Normalize(mean=[0.43,0.44,0.47],\n",
    "                                               std=[0.20,0.20,0.20])                           \n",
    "                       ]))"
   ]
  },
  {
   "cell_type": "markdown",
   "metadata": {
    "id": "p-GnRTE0rUln",
    "colab_type": "text"
   },
   "source": [
    "Разделяем данные на training и validation.\n",
    "\n",
    "На всякий случай для подробностей - https://pytorch.org/tutorials/beginner/data_loading_tutorial.html"
   ]
  },
  {
   "cell_type": "code",
   "execution_count": 0,
   "metadata": {
    "colab_type": "code",
    "id": "YRnr8CPg7Hli",
    "colab": {}
   },
   "outputs": [],
   "source": [
    "batch_size = 64\n",
    "\n",
    "data_size = data_train.data.shape[0]\n",
    "validation_split = .2\n",
    "split = int(np.floor(validation_split * data_size))\n",
    "indices = list(range(data_size))\n",
    "np.random.shuffle(indices)\n",
    "\n",
    "train_indices, val_indices = indices[split:], indices[:split]\n",
    "\n",
    "train_sampler = SubsetRandomSampler(train_indices)\n",
    "val_sampler = SubsetRandomSampler(val_indices)\n",
    "\n",
    "train_loader = torch.utils.data.DataLoader(data_train, batch_size=batch_size, \n",
    "                                           sampler=train_sampler)\n",
    "val_loader = torch.utils.data.DataLoader(data_train, batch_size=batch_size,\n",
    "                                         sampler=val_sampler)"
   ]
  },
  {
   "cell_type": "code",
   "execution_count": 0,
   "metadata": {
    "colab_type": "code",
    "id": "LyYvt-T67PBG",
    "colab": {}
   },
   "outputs": [],
   "source": [
    "# We'll use a special helper module to shape it into a flat tensor\n",
    "class Flattener(nn.Module):\n",
    "    def forward(self, x):\n",
    "        batch_size, *_ = x.shape\n",
    "        return x.view(batch_size, -1)"
   ]
  },
  {
   "cell_type": "markdown",
   "metadata": {
    "id": "Q-ntEYgkrUl-",
    "colab_type": "text"
   },
   "source": [
    "Создадим простейшую сеть с новыми слоями:  \n",
    "Convolutional - `nn.Conv2d`  \n",
    "MaxPool - `nn.MaxPool2d`"
   ]
  },
  {
   "cell_type": "code",
   "execution_count": 0,
   "metadata": {
    "colab_type": "code",
    "id": "w9SFVGZP7SQd",
    "colab": {}
   },
   "outputs": [],
   "source": [
    "nn_model = nn.Sequential(\n",
    "            nn.Conv2d(3, 64, 3, padding=1),\n",
    "            nn.ReLU(inplace=True),\n",
    "            nn.MaxPool2d(4),\n",
    "            nn.Conv2d(64, 64, 3, padding=1),\n",
    "            nn.ReLU(inplace=True),\n",
    "            nn.MaxPool2d(4),    \n",
    "            Flattener(),\n",
    "            nn.Linear(64*2*2, 10)\n",
    "          )\n",
    "\n",
    "nn_model.type(torch.cuda.FloatTensor)\n",
    "nn_model.to(device)\n",
    "\n",
    "loss = nn.CrossEntropyLoss().type(torch.cuda.FloatTensor)\n",
    "optimizer = optim.SGD(nn_model.parameters(), lr=1e-1, weight_decay=1e-4)"
   ]
  },
  {
   "cell_type": "markdown",
   "metadata": {
    "id": "JPJxsWmMrUmO",
    "colab_type": "text"
   },
   "source": [
    "Восстановите функцию `compute_accuracy` из прошлого задания.  \n",
    "Единственное отличие в новом - она должна передать данные на GPU прежде чем прогонять через модель. Сделайте это так же, как это делает функция `train_model`"
   ]
  },
  {
   "cell_type": "code",
   "execution_count": 13,
   "metadata": {
    "colab_type": "code",
    "id": "2ek3KVQK7hJ6",
    "colab": {
     "base_uri": "https://localhost:8080/",
     "height": 104.0
    },
    "outputId": "ae15b496-9df6-47a6-a6a2-bcbf99f5f1b9",
    "executionInfo": {
     "status": "ok",
     "timestamp": 1.554057778424E12,
     "user_tz": -180.0,
     "elapsed": 102450.0,
     "user": {
      "displayName": "Dissatisfied Сustomer",
      "photoUrl": "",
      "userId": "18374096525467064227"
     }
    }
   },
   "outputs": [
    {
     "name": "stdout",
     "output_type": "stream",
     "text": [
      "Average loss: 0.682376, Train accuracy: 0.791574, Val accuracy: 0.813175\n",
      "Average loss: 0.581291, Train accuracy: 0.825462, Val accuracy: 0.827049\n",
      "Average loss: 0.530544, Train accuracy: 0.840767, Val accuracy: 0.801059\n",
      "Average loss: 0.498244, Train accuracy: 0.851926, Val accuracy: 0.847991\n",
      "Average loss: 0.472080, Train accuracy: 0.859008, Val accuracy: 0.852636\n"
     ]
    }
   ],
   "source": [
    "def train_model(model, train_loader, val_loader, loss, optimizer, num_epochs, scheduler=None):    \n",
    "    loss_history = []\n",
    "    train_history = []\n",
    "    val_history = []\n",
    "    for epoch in range(num_epochs):\n",
    "        model.train() # Enter train mode\n",
    "        \n",
    "        loss_accum = 0\n",
    "        correct_samples = 0\n",
    "        total_samples = 0\n",
    "        for i_step, (x, y) in enumerate(train_loader):\n",
    "          \n",
    "            x_gpu = x.to(device)\n",
    "            y_gpu = y.to(device)\n",
    "            prediction = model(x_gpu)    \n",
    "            loss_value = loss(prediction, y_gpu)\n",
    "            optimizer.zero_grad()\n",
    "            loss_value.backward()\n",
    "            optimizer.step()\n",
    "            \n",
    "            _, indices = torch.max(prediction, 1)\n",
    "            correct_samples += torch.sum(indices == y_gpu)\n",
    "            total_samples += y.shape[0]\n",
    "            \n",
    "            loss_accum += loss_value\n",
    "            \n",
    "        if scheduler:\n",
    "            scheduler.step()\n",
    "\n",
    "        ave_loss = loss_accum / i_step\n",
    "        train_accuracy = float(correct_samples) / total_samples\n",
    "        val_accuracy = compute_accuracy(model, val_loader)\n",
    "        \n",
    "        loss_history.append(float(ave_loss))\n",
    "        train_history.append(train_accuracy)\n",
    "        val_history.append(val_accuracy)\n",
    "        \n",
    "        print(\"Average loss: %f, Train accuracy: %f, Val accuracy: %f\" % (ave_loss, train_accuracy, val_accuracy))\n",
    "        \n",
    "    return loss_history, train_history, val_history\n",
    "        \n",
    "def compute_accuracy(model, loader):\n",
    "    \"\"\"\n",
    "    Computes accuracy on the dataset wrapped in a loader\n",
    "    \n",
    "    Returns: accuracy as a float value between 0 and 1\n",
    "    \"\"\"\n",
    "    model.eval() # Evaluation mode\n",
    "    accs = []\n",
    "    for data, target in loader:\n",
    "        data_gpu = data.to(device)\n",
    "        output = model(data_gpu)\n",
    "        pred = torch.argmax(output, dim=1)\n",
    "        accs.append(np.sum(target.numpy() == pred.cpu().numpy()) / target.shape[0])\n",
    "    return np.mean(accs)\n",
    "\n",
    "loss_history, train_history, val_history = train_model(nn_model, train_loader, val_loader, loss, optimizer, 5)"
   ]
  },
  {
   "cell_type": "markdown",
   "metadata": {
    "colab_type": "text",
    "id": "6a-3a1ZFGEw_"
   },
   "source": [
    "# Аугментация данных (Data augmentation)\n",
    "\n",
    "В работе с изображениями одним из особенно важных методов является аугментация данных - то есть, генерация дополнительных данных для тренировки на основе изначальных.   \n",
    "Таким образом, мы получаем возможность \"увеличить\" набор данных для тренировки, что ведет к лучшей работе сети.\n",
    "Важно, чтобы аугментированные данные были похожи на те, которые могут встретиться в реальной жизни, иначе польза от аугментаций уменьшается и может ухудшить работу сети.\n",
    "\n",
    "С PyTorch идут несколько таких алгоритмов, называемых `transforms`. Более подробно про них можно прочитать тут -\n",
    "https://pytorch.org/tutorials/beginner/data_loading_tutorial.html#transforms\n",
    "\n",
    "Ниже мы используем следующие алгоритмы генерации:\n",
    "- ColorJitter - случайное изменение цвета\n",
    "- RandomHorizontalFlip - горизонтальное отражение с вероятностью 50%\n",
    "- RandomVerticalFlip - вертикальное отражение с вероятностью 50%\n",
    "- RandomRotation - случайный поворот"
   ]
  },
  {
   "cell_type": "code",
   "execution_count": 0,
   "metadata": {
    "colab_type": "code",
    "id": "jCWMUWmr7t5g",
    "colab": {}
   },
   "outputs": [],
   "source": [
    "tfs = transforms.Compose([\n",
    "    transforms.ColorJitter(hue=.50, saturation=.50),\n",
    "    transforms.RandomHorizontalFlip(),\n",
    "    transforms.RandomVerticalFlip(),\n",
    "    transforms.RandomRotation(50, resample=PIL.Image.BILINEAR),\n",
    "    transforms.ToTensor(),\n",
    "    transforms.Normalize(mean=[0.43,0.44,0.47],\n",
    "                       std=[0.20,0.20,0.20])                           \n",
    "])\n",
    "\n",
    "# Create augmented train dataset\n",
    "data_aug_train = dset.SVHN('./', \n",
    "                       transform=tfs\n",
    "                      )\n",
    "\n",
    "train_aug_loader = torch.utils.data.DataLoader(data_aug_train, batch_size=batch_size, \n",
    "                                           sampler=train_sampler)"
   ]
  },
  {
   "cell_type": "markdown",
   "metadata": {
    "id": "sa-AK3WerUmp",
    "colab_type": "text"
   },
   "source": [
    "Визуализируем результаты агментации (вообще, смотреть на сгенерированные данные всегда очень полезно)."
   ]
  },
  {
   "cell_type": "code",
   "execution_count": 15,
   "metadata": {
    "colab_type": "code",
    "id": "YlJJEro1KZ45",
    "colab": {
     "base_uri": "https://localhost:8080/",
     "height": 192.0
    },
    "outputId": "b0f195a7-cd09-42e5-ef9b-62880768bcb7",
    "executionInfo": {
     "status": "ok",
     "timestamp": 1.55405780056E12,
     "user_tz": -180.0,
     "elapsed": 4487.0,
     "user": {
      "displayName": "Dissatisfied Сustomer",
      "photoUrl": "",
      "userId": "18374096525467064227"
     }
    }
   },
   "outputs": [
    {
     "data": {
      "image/png": "[encoded data removed]",
      "text/plain": [
       "<Figure size 2160x216 with 10 Axes>"
      ]
     },
     "metadata": {
      "tags": []
     },
     "output_type": "display_data"
    }
   ],
   "source": [
    "# TODO: Visualize some augmented images!\n",
    "# hint: you can create new datasets and loaders to accomplish this\n",
    "\n",
    "# Based on the visualizations, should we keep all the augmentations?\n",
    "\n",
    "tfs = transforms.Compose([\n",
    "    transforms.ColorJitter(hue=.20, saturation=.20),\n",
    "    transforms.RandomHorizontalFlip(),\n",
    "    transforms.RandomVerticalFlip(),\n",
    "    transforms.RandomRotation(10, resample=PIL.Image.BILINEAR),\n",
    "])\n",
    "\n",
    "data_aug_vis = dset.SVHN('./', \n",
    "                       transform=tfs\n",
    "                      )\n",
    "\n",
    "plt.figure(figsize=(30, 3))\n",
    "\n",
    "for i, (x, y) in enumerate(data_aug_vis):\n",
    "    if i == 10:\n",
    "        break\n",
    "    plt.subplot(1, 10, i+1)\n",
    "    plt.grid(False)\n",
    "    plt.imshow(x)\n",
    "    plt.axis('off')"
   ]
  },
  {
   "cell_type": "markdown",
   "metadata": {
    "colab_type": "text",
    "id": "o2LrmsYHoguB"
   },
   "source": [
    "Все ли агментации одинаково полезны на этом наборе данных? Могут ли быть среди них те, которые собьют модель с толку?\n",
    "\n",
    "Выберите из них только корректные"
   ]
  },
  {
   "cell_type": "code",
   "execution_count": 0,
   "metadata": {
    "colab_type": "code",
    "id": "evro9ksXGs9u",
    "colab": {}
   },
   "outputs": [],
   "source": [
    "# TODO: \n",
    "tfs = transforms.Compose([\n",
    "    transforms.ColorJitter(hue=.20, saturation=.20),\n",
    "    transforms.RandomRotation(10, resample=PIL.Image.BILINEAR),\n",
    "    transforms.ToTensor(),\n",
    "    transforms.Normalize(mean=[0.43,0.44,0.47], std=[0.20,0.20,0.20])                           \n",
    "])\n",
    "\n",
    "data_aug_train = dset.SVHN('./', transform=tfs)\n",
    "\n",
    "train_aug_loader = torch.utils.data.DataLoader(data_aug_train, batch_size=batch_size, sampler=train_sampler)"
   ]
  },
  {
   "cell_type": "code",
   "execution_count": 17,
   "metadata": {
    "colab_type": "code",
    "id": "PeO6Zw0DHqPR",
    "colab": {
     "base_uri": "https://localhost:8080/",
     "height": 104.0
    },
    "outputId": "ff268f52-4f99-4fed-93b9-7b225c1503c3",
    "executionInfo": {
     "status": "ok",
     "timestamp": 1.554058051924E12,
     "user_tz": -180.0,
     "elapsed": 238000.0,
     "user": {
      "displayName": "Dissatisfied Сustomer",
      "photoUrl": "",
      "userId": "18374096525467064227"
     }
    }
   },
   "outputs": [
    {
     "name": "stdout",
     "output_type": "stream",
     "text": [
      "Average loss: 0.596288, Train accuracy: 0.821230, Val accuracy: 0.826186\n",
      "Average loss: 0.531303, Train accuracy: 0.840614, Val accuracy: 0.814512\n",
      "Average loss: 0.515194, Train accuracy: 0.844077, Val accuracy: 0.835931\n",
      "Average loss: 0.503695, Train accuracy: 0.848019, Val accuracy: 0.852818\n",
      "Average loss: 0.488540, Train accuracy: 0.852438, Val accuracy: 0.860301\n"
     ]
    }
   ],
   "source": [
    "# Finally, let's train with augmentations!\n",
    "\n",
    "# Note we shouldn't use augmentations on validation\n",
    "\n",
    "loss_history, train_history, val_history = train_model(nn_model, train_aug_loader, val_loader, loss, optimizer, 5)"
   ]
  },
  {
   "cell_type": "markdown",
   "metadata": {
    "colab_type": "text",
    "id": "r0bcioK6JBDK"
   },
   "source": [
    "# LeNet\n",
    "Попробуем имплементировать классическую архитектуру сверточной нейронной сети, предложенную Яном ЛеКуном в 1998 году. В свое время она достигла впечатляющих результатов на MNIST, посмотрим как она справится с SVHN?\n",
    "Она описана в статье [\"Gradient Based Learning Applied to Document Recognition\"](http://yann.lecun.com/exdb/publis/pdf/lecun-01a.pdf), попробуйте прочитать ключевые части и имплементировать предложенную архитетуру на PyTorch.\n",
    "\n",
    "Если в статье не очень понятно, можно просто погуглить LeNet и разобраться в деталях :)"
   ]
  },
  {
   "cell_type": "code",
   "execution_count": 0,
   "metadata": {
    "colab_type": "code",
    "id": "ieEzZUglJAUB",
    "colab": {}
   },
   "outputs": [],
   "source": [
    "# TODO: Implement LeNet-like architecture for SVHN task\n",
    "lenet_model = nn.Sequential(\n",
    "    nn.Conv2d(3, 6, 5),\n",
    "    nn.Tanh(),\n",
    "    nn.MaxPool2d(2, 2),\n",
    "    nn.Conv2d(6, 16, 5),\n",
    "    nn.Tanh(),\n",
    "    nn.MaxPool2d(2, 2),    \n",
    "    Flattener(),\n",
    "    nn.Linear(400, 120),\n",
    "    nn.Tanh(),\n",
    "    nn.Linear(120, 84),\n",
    "    nn.Tanh(),\n",
    "    nn.Linear(84, 10)\n",
    ")\n",
    "\n",
    "lenet_model.type(torch.cuda.FloatTensor)\n",
    "lenet_model.to(device)\n",
    "\n",
    "loss = nn.CrossEntropyLoss().type(torch.cuda.FloatTensor)\n",
    "optimizer = optim.SGD(lenet_model.parameters(), lr=1e-1, weight_decay=1e-4)"
   ]
  },
  {
   "cell_type": "code",
   "execution_count": 19,
   "metadata": {
    "colab_type": "code",
    "id": "WMmaPfdeKk9H",
    "colab": {
     "base_uri": "https://localhost:8080/",
     "height": 225.0
    },
    "outputId": "1d61b8ed-3a0b-4472-e8b4-4c0efcbc90a6",
    "executionInfo": {
     "status": "ok",
     "timestamp": 1.554058832256E12,
     "user_tz": -180.0,
     "elapsed": 488121.0,
     "user": {
      "displayName": "Dissatisfied Сustomer",
      "photoUrl": "",
      "userId": "18374096525467064227"
     }
    }
   },
   "outputs": [
    {
     "name": "stderr",
     "output_type": "stream",
     "text": [
      "/usr/local/lib/python3.6/dist-packages/torch/nn/modules/container.py:92: UserWarning: Implicit dimension choice for softmax has been deprecated. Change the call to include dim=X as an argument.\n",
      "  input = module(input)\n"
     ]
    },
    {
     "name": "stdout",
     "output_type": "stream",
     "text": [
      "Average loss: 2.251863, Train accuracy: 0.203887, Val accuracy: 0.301886\n",
      "Average loss: 2.100450, Train accuracy: 0.353889, Val accuracy: 0.439185\n",
      "Average loss: 1.973092, Train accuracy: 0.495649, Val accuracy: 0.576725\n",
      "Average loss: 1.846805, Train accuracy: 0.631522, Val accuracy: 0.713716\n",
      "Average loss: 1.729433, Train accuracy: 0.751868, Val accuracy: 0.785889\n",
      "Average loss: 1.693598, Train accuracy: 0.778521, Val accuracy: 0.783080\n",
      "Average loss: 1.680580, Train accuracy: 0.788742, Val accuracy: 0.796049\n",
      "Average loss: 1.672866, Train accuracy: 0.795294, Val accuracy: 0.806563\n",
      "Average loss: 1.666511, Train accuracy: 0.801403, Val accuracy: 0.809286\n",
      "Average loss: 1.662220, Train accuracy: 0.804628, Val accuracy: 0.814421\n"
     ]
    }
   ],
   "source": [
    "# Let's train it!\n",
    "loss_history, train_history, val_history = train_model(lenet_model, train_aug_loader, val_loader, loss, optimizer, 10)"
   ]
  },
  {
   "cell_type": "markdown",
   "metadata": {
    "colab_type": "text",
    "id": "u_O9qiYySvuj"
   },
   "source": [
    "# Подбор гиперпараметров"
   ]
  },
  {
   "cell_type": "code",
   "execution_count": 57,
   "metadata": {
    "colab_type": "code",
    "id": "i6mhfdQ9K-N3",
    "colab": {
     "base_uri": "https://localhost:8080/",
     "height": 2309.0
    },
    "outputId": "3f252631-16e9-4240-b0da-e0e5f326a4bb",
    "executionInfo": {
     "status": "ok",
     "timestamp": 1.554080388091E12,
     "user_tz": -180.0,
     "elapsed": 5653091.0,
     "user": {
      "displayName": "Dissatisfied Сustomer",
      "photoUrl": "",
      "userId": "18374096525467064227"
     }
    }
   },
   "outputs": [
    {
     "name": "stdout",
     "output_type": "stream",
     "text": [
      "Average loss: 2.245105, Train accuracy: 0.183599, Val accuracy: 0.189195\n",
      "Average loss: 2.148274, Train accuracy: 0.240402, Val accuracy: 0.332243\n",
      "Average loss: 1.648412, Train accuracy: 0.444562, Val accuracy: 0.577167\n",
      "Average loss: 1.054976, Train accuracy: 0.675528, Val accuracy: 0.762349\n",
      "Average loss: 0.779012, Train accuracy: 0.773044, Val accuracy: 0.809980\n",
      "Average loss: 0.662054, Train accuracy: 0.805174, Val accuracy: 0.831808\n",
      "Average loss: 0.598659, Train accuracy: 0.822476, Val accuracy: 0.842868\n",
      "Average loss: 0.558372, Train accuracy: 0.833908, Val accuracy: 0.851948\n",
      "Average loss: 0.530987, Train accuracy: 0.841757, Val accuracy: 0.854621\n",
      "Average loss: 0.508277, Train accuracy: 0.849213, Val accuracy: 0.858442\n",
      "Hyperparams(learning_rate=0.01, anneal_epochs=20, reg=0.0001) passed\n",
      "Average loss: 2.294016, Train accuracy: 0.127154, Val accuracy: 0.167293\n",
      "Average loss: 2.273098, Train accuracy: 0.181005, Val accuracy: 0.188439\n",
      "Average loss: 2.258126, Train accuracy: 0.189281, Val accuracy: 0.188422\n",
      "Average loss: 2.247379, Train accuracy: 0.189366, Val accuracy: 0.188439\n",
      "Average loss: 2.240395, Train accuracy: 0.189383, Val accuracy: 0.188456\n",
      "Average loss: 2.235917, Train accuracy: 0.189383, Val accuracy: 0.188468\n",
      "Average loss: 2.232538, Train accuracy: 0.189400, Val accuracy: 0.188433\n",
      "Average loss: 2.229321, Train accuracy: 0.189366, Val accuracy: 0.188503\n",
      "Average loss: 2.225645, Train accuracy: 0.189452, Val accuracy: 0.188462\n",
      "Average loss: 2.221698, Train accuracy: 0.189571, Val accuracy: 0.188911\n",
      "Hyperparams(learning_rate=0.001, anneal_epochs=20, reg=0.0001) passed\n",
      "Average loss: 6.747539, Train accuracy: 0.126881, Val accuracy: 0.134735\n",
      "Average loss: 2.145653, Train accuracy: 0.346637, Val accuracy: 0.568633\n",
      "Average loss: 1.170963, Train accuracy: 0.640293, Val accuracy: 0.739633\n",
      "Average loss: 0.944717, Train accuracy: 0.713118, Val accuracy: 0.759727\n",
      "Average loss: 0.907266, Train accuracy: 0.723100, Val accuracy: 0.737831\n",
      "Average loss: 0.877235, Train accuracy: 0.733526, Val accuracy: 0.745546\n",
      "Average loss: 0.865145, Train accuracy: 0.738969, Val accuracy: 0.734448\n",
      "Average loss: 0.853298, Train accuracy: 0.742654, Val accuracy: 0.730922\n",
      "Average loss: 0.838719, Train accuracy: 0.744907, Val accuracy: 0.775989\n",
      "Average loss: 0.839140, Train accuracy: 0.744036, Val accuracy: 0.736181\n",
      "Hyperparams(learning_rate=1, anneal_epochs=10, reg=0.001) passed\n",
      "Average loss: 5.754051, Train accuracy: 0.126165, Val accuracy: 0.119650\n",
      "Average loss: 2.191355, Train accuracy: 0.301471, Val accuracy: 0.547879\n",
      "Average loss: 1.230338, Train accuracy: 0.612889, Val accuracy: 0.594822\n",
      "Average loss: 0.998164, Train accuracy: 0.692659, Val accuracy: 0.723547\n",
      "Average loss: 0.922925, Train accuracy: 0.716923, Val accuracy: 0.728034\n",
      "Average loss: 0.877016, Train accuracy: 0.733167, Val accuracy: 0.755520\n",
      "Average loss: 0.529855, Train accuracy: 0.837764, Val accuracy: 0.856958\n",
      "Average loss: 0.463877, Train accuracy: 0.860253, Val accuracy: 0.862610\n",
      "Average loss: 0.432612, Train accuracy: 0.868921, Val accuracy: 0.864236\n",
      "Average loss: 0.416322, Train accuracy: 0.873870, Val accuracy: 0.875045\n",
      "Hyperparams(learning_rate=1, anneal_epochs=5, reg=0.001) passed\n",
      "Average loss: 6.735487, Train accuracy: 0.138365, Val accuracy: 0.176664\n",
      "Average loss: 1.930886, Train accuracy: 0.408883, Val accuracy: 0.622740\n",
      "Average loss: 1.131497, Train accuracy: 0.655786, Val accuracy: 0.677986\n",
      "Average loss: 0.973374, Train accuracy: 0.704194, Val accuracy: 0.751528\n",
      "Average loss: 0.569988, Train accuracy: 0.827185, Val accuracy: 0.848201\n",
      "Average loss: 0.489813, Train accuracy: 0.850971, Val accuracy: 0.859949\n",
      "Average loss: 0.450525, Train accuracy: 0.864092, Val accuracy: 0.860740\n",
      "Average loss: 0.377512, Train accuracy: 0.886701, Val accuracy: 0.888799\n",
      "Average loss: 0.358222, Train accuracy: 0.892775, Val accuracy: 0.888896\n",
      "Average loss: 0.347485, Train accuracy: 0.896171, Val accuracy: 0.889965\n",
      "Hyperparams(learning_rate=1, anneal_epochs=3, reg=0.001) passed\n",
      "Average loss: 1.344023, Train accuracy: 0.557554, Val accuracy: 0.738803\n",
      "Average loss: 0.901265, Train accuracy: 0.723015, Val accuracy: 0.767119\n",
      "Average loss: 0.864613, Train accuracy: 0.733730, Val accuracy: 0.754565\n",
      "Average loss: 0.545282, Train accuracy: 0.833822, Val accuracy: 0.850533\n",
      "Average loss: 0.471539, Train accuracy: 0.856721, Val accuracy: 0.865668\n",
      "Average loss: 0.395080, Train accuracy: 0.881565, Val accuracy: 0.878809\n",
      "Average loss: 0.379905, Train accuracy: 0.886206, Val accuracy: 0.881293\n",
      "Average loss: 0.361167, Train accuracy: 0.891854, Val accuracy: 0.885064\n",
      "Average loss: 0.355300, Train accuracy: 0.892656, Val accuracy: 0.885473\n",
      "Average loss: 0.351121, Train accuracy: 0.895471, Val accuracy: 0.885575\n",
      "Hyperparams(learning_rate=1, anneal_epochs=2, reg=0.001) passed\n",
      "Average loss: 1.352802, Train accuracy: 0.552145, Val accuracy: 0.742425\n",
      "Average loss: 0.905867, Train accuracy: 0.720353, Val accuracy: 0.762382\n",
      "Average loss: 0.565711, Train accuracy: 0.826929, Val accuracy: 0.853586\n",
      "Average loss: 0.463690, Train accuracy: 0.859605, Val accuracy: 0.864628\n",
      "Average loss: 0.439371, Train accuracy: 0.867624, Val accuracy: 0.868591\n",
      "Average loss: 0.436219, Train accuracy: 0.867880, Val accuracy: 0.868591\n",
      "Average loss: 0.433398, Train accuracy: 0.869860, Val accuracy: 0.868682\n",
      "Average loss: 0.429461, Train accuracy: 0.869075, Val accuracy: 0.868671\n",
      "Average loss: 0.431854, Train accuracy: 0.869826, Val accuracy: 0.868716\n",
      "Average loss: 0.429996, Train accuracy: 0.869911, Val accuracy: 0.868722\n",
      "Hyperparams(learning_rate=1, anneal_epochs=1, reg=0.001) passed\n",
      "Average loss: 1.264612, Train accuracy: 0.574242, Val accuracy: 0.805750\n",
      "Average loss: 0.579373, Train accuracy: 0.823704, Val accuracy: 0.853995\n",
      "Average loss: 0.500792, Train accuracy: 0.848701, Val accuracy: 0.869376\n",
      "Average loss: 0.457688, Train accuracy: 0.860287, Val accuracy: 0.871457\n",
      "Average loss: 0.425888, Train accuracy: 0.870781, Val accuracy: 0.853745\n",
      "Average loss: 0.409810, Train accuracy: 0.873972, Val accuracy: 0.876273\n",
      "Average loss: 0.393917, Train accuracy: 0.879176, Val accuracy: 0.881874\n",
      "Average loss: 0.379022, Train accuracy: 0.883664, Val accuracy: 0.880486\n",
      "Average loss: 0.369897, Train accuracy: 0.887042, Val accuracy: 0.884643\n",
      "Average loss: 0.366506, Train accuracy: 0.887913, Val accuracy: 0.884648\n",
      "Hyperparams(learning_rate=0.1, anneal_epochs=10, reg=0.001) passed\n",
      "Average loss: 1.221572, Train accuracy: 0.591390, Val accuracy: 0.830404\n",
      "Average loss: 0.557058, Train accuracy: 0.830888, Val accuracy: 0.862109\n",
      "Average loss: 0.481693, Train accuracy: 0.853479, Val accuracy: 0.832019\n",
      "Average loss: 0.448921, Train accuracy: 0.864997, Val accuracy: 0.868552\n",
      "Average loss: 0.417278, Train accuracy: 0.872795, Val accuracy: 0.879309\n",
      "Average loss: 0.405172, Train accuracy: 0.876293, Val accuracy: 0.882260\n",
      "Average loss: 0.336761, Train accuracy: 0.898696, Val accuracy: 0.896384\n",
      "Average loss: 0.329886, Train accuracy: 0.901682, Val accuracy: 0.898630\n",
      "Average loss: 0.321764, Train accuracy: 0.904361, Val accuracy: 0.896316\n",
      "Average loss: 0.318360, Train accuracy: 0.905368, Val accuracy: 0.897556\n",
      "Hyperparams(learning_rate=0.1, anneal_epochs=5, reg=0.001) passed\n",
      "Average loss: 1.279957, Train accuracy: 0.567280, Val accuracy: 0.817218\n",
      "Average loss: 0.579585, Train accuracy: 0.824916, Val accuracy: 0.851607\n",
      "Average loss: 0.503509, Train accuracy: 0.847814, Val accuracy: 0.861438\n",
      "Average loss: 0.463132, Train accuracy: 0.861396, Val accuracy: 0.870718\n",
      "Average loss: 0.386063, Train accuracy: 0.885899, Val accuracy: 0.886087\n",
      "Average loss: 0.375547, Train accuracy: 0.888834, Val accuracy: 0.887235\n",
      "Average loss: 0.370775, Train accuracy: 0.890233, Val accuracy: 0.889175\n",
      "Average loss: 0.355734, Train accuracy: 0.896137, Val accuracy: 0.891210\n",
      "Average loss: 0.351976, Train accuracy: 0.895949, Val accuracy: 0.891949\n",
      "Average loss: 0.350545, Train accuracy: 0.896478, Val accuracy: 0.892904\n",
      "Hyperparams(learning_rate=0.1, anneal_epochs=3, reg=0.001) passed\n",
      "Average loss: 1.297521, Train accuracy: 0.564413, Val accuracy: 0.779401\n",
      "Average loss: 0.576852, Train accuracy: 0.823721, Val accuracy: 0.848616\n",
      "Average loss: 0.498089, Train accuracy: 0.849521, Val accuracy: 0.850043\n",
      "Average loss: 0.412690, Train accuracy: 0.877214, Val accuracy: 0.883340\n",
      "Average loss: 0.399051, Train accuracy: 0.880661, Val accuracy: 0.880781\n",
      "Average loss: 0.381638, Train accuracy: 0.886513, Val accuracy: 0.887582\n",
      "Average loss: 0.379647, Train accuracy: 0.887554, Val accuracy: 0.886838\n",
      "Average loss: 0.374369, Train accuracy: 0.888629, Val accuracy: 0.887781\n",
      "Average loss: 0.374553, Train accuracy: 0.888510, Val accuracy: 0.888401\n",
      "Average loss: 0.373088, Train accuracy: 0.890830, Val accuracy: 0.888196\n",
      "Hyperparams(learning_rate=0.1, anneal_epochs=2, reg=0.001) passed\n",
      "Average loss: 1.245350, Train accuracy: 0.584411, Val accuracy: 0.817127\n",
      "Average loss: 0.569458, Train accuracy: 0.826468, Val accuracy: 0.854973\n",
      "Average loss: 0.453354, Train accuracy: 0.863478, Val accuracy: 0.875687\n",
      "Average loss: 0.429990, Train accuracy: 0.871071, Val accuracy: 0.876461\n",
      "Average loss: 0.423550, Train accuracy: 0.873733, Val accuracy: 0.878087\n",
      "Average loss: 0.424870, Train accuracy: 0.873972, Val accuracy: 0.877899\n",
      "Average loss: 0.423584, Train accuracy: 0.874791, Val accuracy: 0.877956\n",
      "Average loss: 0.423440, Train accuracy: 0.872829, Val accuracy: 0.877979\n",
      "Average loss: 0.420920, Train accuracy: 0.873238, Val accuracy: 0.877962\n",
      "Average loss: 0.424111, Train accuracy: 0.873545, Val accuracy: 0.877956\n",
      "Hyperparams(learning_rate=0.1, anneal_epochs=1, reg=0.001) passed\n"
     ]
    }
   ],
   "source": [
    "# The key hyperparameters we're going to tune are learning speed, annealing rate and regularization\n",
    "# We also encourage you to try different optimizers as well\n",
    "\n",
    "Hyperparams = namedtuple(\"Hyperparams\", ['learning_rate', 'anneal_epochs', 'reg'])\n",
    "RunResult = namedtuple(\"RunResult\", ['model', 'train_history', 'val_history', 'final_val_accuracy'])\n",
    "\n",
    "\n",
    "def create_lenet(learning_rate, l2_reg, anneal_epoch, anneal_coeff):\n",
    "    lenet_model = nn.Sequential(\n",
    "        nn.Conv2d(3, 6, 5),\n",
    "        nn.Tanh(),\n",
    "        nn.MaxPool2d(2, 2),\n",
    "        nn.Conv2d(6, 16, 5),\n",
    "        nn.Tanh(),\n",
    "        nn.MaxPool2d(2, 2),    \n",
    "        Flattener(),\n",
    "        nn.Linear(400, 120),\n",
    "        nn.Tanh(),\n",
    "        nn.Linear(120, 84),\n",
    "        nn.Tanh(),\n",
    "        nn.Linear(84, 10)\n",
    "    )\n",
    "\n",
    "    lenet_model.type(torch.cuda.FloatTensor)\n",
    "    lenet_model.to(device)\n",
    "\n",
    "    loss = nn.CrossEntropyLoss().type(torch.cuda.FloatTensor)\n",
    "    optimizer = optim.SGD(lenet_model.parameters(), lr=learning_rate, weight_decay=l2_reg)\n",
    "    scheduler = optim.lr_scheduler.StepLR(optimizer, step_size=anneal_epoch, gamma=anneal_coeff)\n",
    "    return lenet_model, optimizer, scheduler\n",
    "\n",
    "\n",
    "batch_size = 64\n",
    "epoch_num = 10\n",
    "\n",
    "# Record all the runs here\n",
    "# Key should be Hyperparams and values should be RunResult\n",
    "run_record = {}\n",
    "\n",
    "learning_rates = [1e-2, 1e-3]\n",
    "\n",
    "for learning_rate in learning_rates:\n",
    "    anneal_epoch = 20\n",
    "    l2_reg = 1e-4\n",
    "    lenet_model, optimizer, scheduler = create_lenet(learning_rate, l2_reg, anneal_epoch, anneal_coeff)\n",
    "    loss_history, train_history, val_history = train_model(lenet_model, train_aug_loader, val_loader, loss, optimizer, epoch_num, scheduler)\n",
    "    params = Hyperparams(learning_rate=learning_rate, anneal_epochs=anneal_epoch, reg=l2_reg)\n",
    "    result = RunResult(\n",
    "        model=lenet_model,\n",
    "        train_history=train_history,\n",
    "        val_history=val_history,\n",
    "        final_val_accuracy=val_history[-1]\n",
    "    )\n",
    "    run_record[params] = result\n",
    "    print('{} passed'.format(params))\n",
    "    \n",
    "learning_rates = [1, 1e-1]\n",
    "anneal_coeff = 0.2\n",
    "anneal_epochs = [1, 2, 3, 5, 10]\n",
    "\n",
    "for learning_rate in learning_rates:\n",
    "    for anneal_epoch in reversed(anneal_epochs):\n",
    "        l2_reg = 1e-3\n",
    "        lenet_model, optimizer, scheduler = create_lenet(learning_rate, l2_reg, anneal_epoch, anneal_coeff)\n",
    "        loss_history, train_history, val_history = train_model(lenet_model, train_aug_loader, val_loader, loss, optimizer, epoch_num, scheduler)\n",
    "        params = Hyperparams(learning_rate=learning_rate, anneal_epochs=anneal_epoch, reg=l2_reg)\n",
    "        result = RunResult(\n",
    "            model=lenet_model,\n",
    "            train_history=train_history,\n",
    "            val_history=val_history,\n",
    "            final_val_accuracy=val_history[-1]\n",
    "        )\n",
    "        run_record[params] = result\n",
    "        print('{} passed'.format(params))"
   ]
  },
  {
   "cell_type": "code",
   "execution_count": 58,
   "metadata": {
    "colab_type": "code",
    "id": "Y6xExdw8JB1l",
    "outputId": "7c52da1d-3eed-442f-ea9e-bac2f84e4e3f",
    "colab": {
     "base_uri": "https://localhost:8080/",
     "height": 34.0
    },
    "executionInfo": {
     "status": "ok",
     "timestamp": 1.554080446624E12,
     "user_tz": -180.0,
     "elapsed": 930.0,
     "user": {
      "displayName": "Dissatisfied Сustomer",
      "photoUrl": "",
      "userId": "18374096525467064227"
     }
    }
   },
   "outputs": [
    {
     "name": "stdout",
     "output_type": "stream",
     "text": [
      "Best validation accuracy: 0.90, best hyperparams: Hyperparams(learning_rate=0.1, anneal_epochs=5, reg=0.001)\n"
     ]
    }
   ],
   "source": [
    "best_val_accuracy = None\n",
    "best_hyperparams = None\n",
    "best_run = None\n",
    "\n",
    "for hyperparams, run_result in run_record.items():\n",
    "    if best_val_accuracy is None or best_val_accuracy < run_result.final_val_accuracy:\n",
    "        best_val_accuracy = run_result.final_val_accuracy\n",
    "        best_hyperparams = hyperparams\n",
    "        best_run = run_result\n",
    "        \n",
    "print(\"Best validation accuracy: %4.2f, best hyperparams: %s\" % (best_val_accuracy, best_hyperparams))\n",
    "        "
   ]
  },
  {
   "cell_type": "markdown",
   "metadata": {
    "colab_type": "text",
    "id": "LOmsR0uVgtgf"
   },
   "source": [
    "# Свободное упражнение - догоним и перегоним LeNet!\n",
    "\n",
    "Попробуйте найти архитектуру и настройки тренировки, чтобы выступить лучше наших бейзлайнов.\n",
    "\n",
    "Что можно и нужно попробовать:\n",
    "- BatchNormalization (для convolution layers он в PyTorch называется [batchnorm2d](https://pytorch.org/docs/stable/nn.html#batchnorm2d))\n",
    "- Изменить количество слоев и их толщину\n",
    "- Изменять количество эпох тренировки\n",
    "- Попробовать и другие агментации"
   ]
  },
  {
   "cell_type": "code",
   "execution_count": 55,
   "metadata": {
    "colab_type": "code",
    "id": "tSVhD747icoc",
    "colab": {
     "base_uri": "https://localhost:8080/",
     "height": 191.0
    },
    "outputId": "45342be7-d29b-413d-a4e5-d713a447ea6f",
    "executionInfo": {
     "status": "ok",
     "timestamp": 1.554074668508E12,
     "user_tz": -180.0,
     "elapsed": 475059.0,
     "user": {
      "displayName": "Dissatisfied Сustomer",
      "photoUrl": "",
      "userId": "18374096525467064227"
     }
    }
   },
   "outputs": [
    {
     "name": "stdout",
     "output_type": "stream",
     "text": [
      "Average loss: 0.702439, Train accuracy: 0.773283, Val accuracy: 0.853790\n",
      "Average loss: 0.424967, Train accuracy: 0.867488, Val accuracy: 0.882545\n",
      "Average loss: 0.367442, Train accuracy: 0.886684, Val accuracy: 0.891949\n",
      "Average loss: 0.329114, Train accuracy: 0.899584, Val accuracy: 0.894678\n",
      "Average loss: 0.226487, Train accuracy: 0.930860, Val accuracy: 0.926281\n",
      "Average loss: 0.199083, Train accuracy: 0.940655, Val accuracy: 0.928141\n",
      "Average loss: 0.183859, Train accuracy: 0.944869, Val accuracy: 0.926730\n",
      "Average loss: 0.155931, Train accuracy: 0.953486, Val accuracy: 0.928658\n",
      "Average loss: 0.141546, Train accuracy: 0.957496, Val accuracy: 0.929215\n",
      "Average loss: 0.136105, Train accuracy: 0.959100, Val accuracy: 0.930665\n"
     ]
    }
   ],
   "source": [
    "best_model = nn.Sequential(\n",
    "    nn.Conv2d(3, 32, 5),\n",
    "    nn.BatchNorm2d(32),\n",
    "    nn.LeakyReLU(),\n",
    "    nn.MaxPool2d(2, 2),\n",
    "    nn.Conv2d(32, 64, 5),\n",
    "    nn.BatchNorm2d(64),\n",
    "    nn.LeakyReLU(),\n",
    "    nn.MaxPool2d(2, 2),\n",
    "    Flattener(),\n",
    "    nn.Linear(1600, 400),\n",
    "    nn.BatchNorm1d(400),\n",
    "    nn.LeakyReLU(),\n",
    "    nn.Linear(400, 100),\n",
    "    nn.BatchNorm1d(100),\n",
    "    nn.LeakyReLU(),\n",
    "    nn.Linear(100, 10)\n",
    ")\n",
    "best_model.type(torch.cuda.FloatTensor)\n",
    "best_model.to(device)\n",
    "\n",
    "loss = nn.CrossEntropyLoss().type(torch.cuda.FloatTensor)\n",
    "optimizer = optim.SGD(best_model.parameters(), lr=1, weight_decay=1e-4)\n",
    "scheduler = optim.lr_scheduler.StepLR(optimizer, gamma=0.2, step_size=3)\n",
    "loss_history, train_history, val_history = train_model(best_model, train_aug_loader, val_loader, loss, optimizer,\n",
    "                                                       epoch_num, scheduler)"
   ]
  },
  {
   "cell_type": "markdown",
   "metadata": {
    "colab_type": "text",
    "id": "ubeKgBcnhx7N"
   },
   "source": [
    "# Финальный аккорд - проверим лучшую модель на test set\n",
    "\n",
    "В качестве разнообразия - напишите код для прогона модели на test set вы.\n",
    "\n",
    "В результате вы должны натренировать модель, которая покажет более **90%** точности на test set.  \n",
    "Как водится, лучший результат в группе получит дополнительные баллы!"
   ]
  },
  {
   "cell_type": "code",
   "execution_count": 59,
   "metadata": {
    "colab_type": "code",
    "id": "EIqM1kdeh-hd",
    "colab": {
     "base_uri": "https://localhost:8080/",
     "height": 34.0
    },
    "outputId": "c63865c7-610a-4809-9675-33a805b5bcae",
    "executionInfo": {
     "status": "ok",
     "timestamp": 1.554080472104E12,
     "user_tz": -180.0,
     "elapsed": 7919.0,
     "user": {
      "displayName": "Dissatisfied Сustomer",
      "photoUrl": "",
      "userId": "18374096525467064227"
     }
    }
   },
   "outputs": [
    {
     "name": "stdout",
     "output_type": "stream",
     "text": [
      "LeNet test accuracy: 0.8904\n"
     ]
    }
   ],
   "source": [
    "test_loader = torch.utils.data.DataLoader(data_test, batch_size=batch_size)\n",
    "test_accuracy = compute_accuracy(best_run.model, test_loader)\n",
    "print(\"LeNet test accuracy: %2.4f\" % test_accuracy)"
   ]
  },
  {
   "cell_type": "code",
   "execution_count": 56,
   "metadata": {
    "id": "N-uFieIwjqP3",
    "colab_type": "code",
    "colab": {
     "base_uri": "https://localhost:8080/",
     "height": 34.0
    },
    "outputId": "a8244724-5017-415c-baed-bb1016e348d4",
    "executionInfo": {
     "status": "ok",
     "timestamp": 1.554074720676E12,
     "user_tz": -180.0,
     "elapsed": 8126.0,
     "user": {
      "displayName": "Dissatisfied Сustomer",
      "photoUrl": "",
      "userId": "18374096525467064227"
     }
    }
   },
   "outputs": [
    {
     "name": "stdout",
     "output_type": "stream",
     "text": [
      "Final test accuracy: 0.9253\n"
     ]
    }
   ],
   "source": [
    "test_accuracy = compute_accuracy(best_model, test_loader)\n",
    "print(\"Final test accuracy: %2.4f\" % test_accuracy)"
   ]
  }
 ],
 "metadata": {
  "colab": {
   "name": "PyTorch_CNN.ipynb",
   "version": "0.3.2",
   "provenance": [],
   "collapsed_sections": []
  },
  "kernelspec": {
   "display_name": "Python 3",
   "language": "python",
   "name": "python3"
  },
  "accelerator": "GPU"
 },
 "nbformat": 4,
 "nbformat_minor": 0
}

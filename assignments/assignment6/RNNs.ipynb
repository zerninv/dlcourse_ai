{
 "cells": [
  {
   "cell_type": "markdown",
   "metadata": {
    "id": "MRayBcqVwBgc",
    "colab_type": "text"
   },
   "source": [
    "# Задание 6: Рекуррентные нейронные сети (RNNs)\n",
    "\n",
    "Это задание адаптиповано из Deep NLP Course at ABBYY (https://github.com/DanAnastasyev/DeepNLP-Course) с разрешения автора - Даниила Анастасьева. Спасибо ему огромное!"
   ]
  },
  {
   "cell_type": "code",
   "execution_count": 1,
   "metadata": {
    "colab_type": "code",
    "id": "P59NYU98GCb9",
    "colab": {
     "base_uri": "https://localhost:8080/",
     "height": 69.0
    },
    "outputId": "7753ce37-db96-420e-deca-ba428e5213ec",
    "executionInfo": {
     "status": "ok",
     "timestamp": 1.557986783844E12,
     "user_tz": -180.0,
     "elapsed": 21999.0,
     "user": {
      "displayName": "Dissatisfied Сustomer",
      "photoUrl": "",
      "userId": "18374096525467064227"
     }
    }
   },
   "outputs": [
    {
     "name": "stdout",
     "output_type": "stream",
     "text": [
      "\u001b[K     |████████████████████████████████| 16.0MB 3.4MB/s \n",
      "\u001b[?25h  Building wheel for bokeh (setup.py) ... \u001b[?25l\u001b[?25hdone\n",
      "\u001b[K     |████████████████████████████████| 5.4MB 3.4MB/s \n",
      "\u001b[?25h"
     ]
    }
   ],
   "source": [
    "# !wget https://developer.nvidia.com/compute/cuda/9.2/Prod2/local_installers/cuda-repo-ubuntu1710-9-2-local_9.2.148-1_amd64\n",
    "# !dpkg -i cuda-repo-ubuntu1710-9-2-local_9.2.148-1_amd64\n",
    "# # You can use this line to find out the directory name\n",
    "# # !ls /var/ | grep cuda-repo\n",
    "# !apt-key add /var/cuda-repo-9-2-local/7fa2af80.pub\n",
    "# !apt-get update\n",
    "# !apt-get install cuda\n",
    "# !pip3 -qq install torch==0.4.1\n",
    "!pip3 -qq install bokeh==0.13.0\n",
    "!pip3 -qq install gensim==3.6.0\n",
    "!pip3 -qq install nltk\n",
    "!pip3 -qq install scikit-learn==0.20.2"
   ]
  },
  {
   "cell_type": "code",
   "execution_count": 0,
   "metadata": {
    "colab_type": "code",
    "id": "8sVtGHmA9aBM",
    "colab": {}
   },
   "outputs": [],
   "source": [
    "import numpy as np\n",
    "\n",
    "import torch\n",
    "import torch.nn as nn\n",
    "import torch.nn.functional as F\n",
    "import torch.optim as optim\n",
    "\n",
    "\n",
    "if torch.cuda.is_available():\n",
    "    from torch.cuda import FloatTensor, LongTensor\n",
    "else:\n",
    "    from torch import FloatTensor, LongTensor\n",
    "\n",
    "np.random.seed(42)"
   ]
  },
  {
   "cell_type": "markdown",
   "metadata": {
    "colab_type": "text",
    "id": "-6CNKM3b4hT1"
   },
   "source": [
    "# Рекуррентные нейронные сети (RNNs)"
   ]
  },
  {
   "cell_type": "markdown",
   "metadata": {
    "colab_type": "text",
    "id": "O_XkoGNQUeGm"
   },
   "source": [
    "## POS Tagging"
   ]
  },
  {
   "cell_type": "markdown",
   "metadata": {
    "colab_type": "text",
    "id": "QFEtWrS_4rUs"
   },
   "source": [
    "Мы рассмотрим применение рекуррентных сетей к задаче sequence labeling (последняя картинка).\n",
    "\n",
    "![RNN types](http://karpathy.github.io/assets/rnn/diags.jpeg)\n",
    "\n",
    "*From [The Unreasonable Effectiveness of Recurrent Neural Networks](http://karpathy.github.io/2015/05/21/rnn-effectiveness/)*\n",
    "\n",
    "Самые популярные примеры для такой постановки задачи - Part-of-Speech Tagging и Named Entity Recognition.\n",
    "\n",
    "Мы порешаем сейчас POS Tagging для английского.\n",
    "\n",
    "Будем работать с таким набором тегов:\n",
    "- ADJ - adjective (new, good, high, ...)\n",
    "- ADP - adposition (on, of, at, ...)\n",
    "- ADV - adverb (really, already, still, ...)\n",
    "- CONJ - conjunction (and, or, but, ...)\n",
    "- DET - determiner, article (the, a, some, ...)\n",
    "- NOUN - noun (year, home, costs, ...)\n",
    "- NUM - numeral (twenty-four, fourth, 1991, ...)\n",
    "- PRT - particle (at, on, out, ...)\n",
    "- PRON - pronoun (he, their, her, ...)\n",
    "- VERB - verb (is, say, told, ...)\n",
    "- . - punctuation marks (. , ;)\n",
    "- X - other (ersatz, esprit, dunno, ...)"
   ]
  },
  {
   "cell_type": "markdown",
   "metadata": {
    "colab_type": "text",
    "id": "EPIkKdFlHB-X"
   },
   "source": [
    "Скачаем данные:"
   ]
  },
  {
   "cell_type": "code",
   "execution_count": 3,
   "metadata": {
    "colab_type": "code",
    "id": "TiA2dGmgF1rW",
    "colab": {
     "base_uri": "https://localhost:8080/",
     "height": 86.0
    },
    "outputId": "6093f22b-40bb-471f-84f0-54ed282fcb36",
    "executionInfo": {
     "status": "ok",
     "timestamp": 1.557986786533E12,
     "user_tz": -180.0,
     "elapsed": 24580.0,
     "user": {
      "displayName": "Dissatisfied Сustomer",
      "photoUrl": "",
      "userId": "18374096525467064227"
     }
    }
   },
   "outputs": [
    {
     "name": "stdout",
     "output_type": "stream",
     "text": [
      "[nltk_data] Downloading package brown to /root/nltk_data...\n",
      "[nltk_data]   Unzipping corpora/brown.zip.\n",
      "[nltk_data] Downloading package universal_tagset to /root/nltk_data...\n",
      "[nltk_data]   Unzipping taggers/universal_tagset.zip.\n"
     ]
    }
   ],
   "source": [
    "import nltk\n",
    "from sklearn.model_selection import train_test_split\n",
    "\n",
    "nltk.download('brown')\n",
    "nltk.download('universal_tagset')\n",
    "\n",
    "data = nltk.corpus.brown.tagged_sents(tagset='universal')"
   ]
  },
  {
   "cell_type": "markdown",
   "metadata": {
    "colab_type": "text",
    "id": "d93g_swyJA_V"
   },
   "source": [
    "Пример размеченного предложения:"
   ]
  },
  {
   "cell_type": "code",
   "execution_count": 4,
   "metadata": {
    "colab_type": "code",
    "id": "QstS4NO0L97c",
    "colab": {
     "base_uri": "https://localhost:8080/",
     "height": 451.0
    },
    "outputId": "88fa3238-6997-4465-de33-e44995277d17",
    "executionInfo": {
     "status": "ok",
     "timestamp": 1.557986786549E12,
     "user_tz": -180.0,
     "elapsed": 24565.0,
     "user": {
      "displayName": "Dissatisfied Сustomer",
      "photoUrl": "",
      "userId": "18374096525467064227"
     }
    }
   },
   "outputs": [
    {
     "name": "stdout",
     "output_type": "stream",
     "text": [
      "The            \tDET\n",
      "Fulton         \tNOUN\n",
      "County         \tNOUN\n",
      "Grand          \tADJ\n",
      "Jury           \tNOUN\n",
      "said           \tVERB\n",
      "Friday         \tNOUN\n",
      "an             \tDET\n",
      "investigation  \tNOUN\n",
      "of             \tADP\n",
      "Atlanta's      \tNOUN\n",
      "recent         \tADJ\n",
      "primary        \tNOUN\n",
      "election       \tNOUN\n",
      "produced       \tVERB\n",
      "``             \t.\n",
      "no             \tDET\n",
      "evidence       \tNOUN\n",
      "''             \t.\n",
      "that           \tADP\n",
      "any            \tDET\n",
      "irregularities \tNOUN\n",
      "took           \tVERB\n",
      "place          \tNOUN\n",
      ".              \t.\n"
     ]
    }
   ],
   "source": [
    "for word, tag in data[0]:\n",
    "    print('{:15}\\t{}'.format(word, tag))"
   ]
  },
  {
   "cell_type": "markdown",
   "metadata": {
    "colab_type": "text",
    "id": "epdW8u_YXcAv"
   },
   "source": [
    "Построим разбиение на train/val/test - наконец-то, всё как у нормальных людей.\n",
    "\n",
    "На train будем учиться, по val - подбирать параметры и делать всякие early stopping, а на test - принимать модель по ее финальному качеству."
   ]
  },
  {
   "cell_type": "code",
   "execution_count": 5,
   "metadata": {
    "colab_type": "code",
    "id": "xTai8Ta0lgwL",
    "colab": {
     "base_uri": "https://localhost:8080/",
     "height": 69.0
    },
    "outputId": "4edbdce2-aeea-48eb-a81a-ec6622d2be79",
    "executionInfo": {
     "status": "ok",
     "timestamp": 1.557986814664E12,
     "user_tz": -180.0,
     "elapsed": 52627.0,
     "user": {
      "displayName": "Dissatisfied Сustomer",
      "photoUrl": "",
      "userId": "18374096525467064227"
     }
    }
   },
   "outputs": [
    {
     "name": "stdout",
     "output_type": "stream",
     "text": [
      "Words count in train set: 739769\n",
      "Words count in val set: 130954\n",
      "Words count in test set: 290469\n"
     ]
    }
   ],
   "source": [
    "train_data, test_data = train_test_split(data, test_size=0.25, random_state=42)\n",
    "train_data, val_data = train_test_split(train_data, test_size=0.15, random_state=42)\n",
    "\n",
    "print('Words count in train set:', sum(len(sent) for sent in train_data))\n",
    "print('Words count in val set:', sum(len(sent) for sent in val_data))\n",
    "print('Words count in test set:', sum(len(sent) for sent in test_data))"
   ]
  },
  {
   "cell_type": "markdown",
   "metadata": {
    "colab_type": "text",
    "id": "eChdLNGtXyP0"
   },
   "source": [
    "Построим маппинги из слов в индекс и из тега в индекс:\n"
   ]
  },
  {
   "cell_type": "code",
   "execution_count": 6,
   "metadata": {
    "colab_type": "code",
    "id": "pCjwwDs6Zq9x",
    "colab": {
     "base_uri": "https://localhost:8080/",
     "height": 34.0
    },
    "outputId": "14c75ea9-8761-4c0f-b06d-6d6fbf87f762",
    "executionInfo": {
     "status": "ok",
     "timestamp": 1.557986814848E12,
     "user_tz": -180.0,
     "elapsed": 52781.0,
     "user": {
      "displayName": "Dissatisfied Сustomer",
      "photoUrl": "",
      "userId": "18374096525467064227"
     }
    }
   },
   "outputs": [
    {
     "name": "stdout",
     "output_type": "stream",
     "text": [
      "Unique words in train = 45441. Tags = {'ADP', 'DET', '.', 'ADV', 'NUM', 'X', 'PRON', 'NOUN', 'VERB', 'CONJ', 'PRT', 'ADJ'}\n"
     ]
    }
   ],
   "source": [
    "words = {word for sample in train_data for word, tag in sample}\n",
    "word2ind = {word: ind + 1 for ind, word in enumerate(words)}\n",
    "word2ind['<pad>'] = 0\n",
    "\n",
    "tags = {tag for sample in train_data for word, tag in sample}\n",
    "tag2ind = {tag: ind + 1 for ind, tag in enumerate(tags)}\n",
    "tag2ind['<pad>'] = 0\n",
    "\n",
    "print('Unique words in train = {}. Tags = {}'.format(len(word2ind), tags))"
   ]
  },
  {
   "cell_type": "code",
   "execution_count": 7,
   "metadata": {
    "colab_type": "code",
    "id": "URC1B2nvPGFt",
    "colab": {
     "base_uri": "https://localhost:8080/",
     "height": 323.0
    },
    "outputId": "f9bac5e9-75f4-4b92-a6b3-a98227848831",
    "executionInfo": {
     "status": "ok",
     "timestamp": 1.557986815688E12,
     "user_tz": -180.0,
     "elapsed": 53591.0,
     "user": {
      "displayName": "Dissatisfied Сustomer",
      "photoUrl": "",
      "userId": "18374096525467064227"
     }
    }
   },
   "outputs": [
    {
     "data": {
      "image/png": "[encoded data removed]",
      "text/plain": [
       "<Figure size 720x360 with 1 Axes>"
      ]
     },
     "metadata": {
      "tags": []
     },
     "output_type": "display_data"
    }
   ],
   "source": [
    "import matplotlib.pyplot as plt\n",
    "%matplotlib inline\n",
    "\n",
    "from collections import Counter\n",
    "\n",
    "tag_distribution = Counter(tag for sample in train_data for _, tag in sample)\n",
    "tag_distribution = [tag_distribution[tag] for tag in tags]\n",
    "\n",
    "plt.figure(figsize=(10, 5))\n",
    "\n",
    "bar_width = 0.35\n",
    "plt.bar(np.arange(len(tags)), tag_distribution, bar_width, align='center', alpha=0.5)\n",
    "plt.xticks(np.arange(len(tags)), tags)\n",
    "    \n",
    "plt.show()"
   ]
  },
  {
   "cell_type": "markdown",
   "metadata": {
    "colab_type": "text",
    "id": "gArQwbzWWkgi"
   },
   "source": [
    "## Бейзлайн\n",
    "\n",
    "Какой самый простой теггер можно придумать? Давайте просто запоминать, какие теги самые вероятные для слова (или для последовательности):\n",
    "\n",
    "![tag-context](https://www.nltk.org/images/tag-context.png)  \n",
    "*From [Categorizing and Tagging Words, nltk](https://www.nltk.org/book/ch05.html)*\n",
    "\n",
    "На картинке показано, что для предсказания $t_n$ используются два предыдущих предсказанных тега + текущее слово. По корпусу считаются вероятность для $P(t_n| w_n, t_{n-1}, t_{n-2})$, выбирается тег с максимальной вероятностью.\n",
    "\n",
    "Более аккуратно такая идея реализована в Hidden Markov Models: по тренировочному корпусу вычисляются вероятности $P(w_n| t_n), P(t_n|t_{n-1}, t_{n-2})$ и максимизируется их произведение.\n",
    "\n",
    "Простейший вариант - униграммная модель, учитывающая только слово:"
   ]
  },
  {
   "cell_type": "code",
   "execution_count": 8,
   "metadata": {
    "colab_type": "code",
    "id": "5rWmSToIaeAo",
    "colab": {
     "base_uri": "https://localhost:8080/",
     "height": 34.0
    },
    "outputId": "a66c8c95-4f62-4403-9f4f-3e17c399dea3",
    "executionInfo": {
     "status": "ok",
     "timestamp": 1.557986819275E12,
     "user_tz": -180.0,
     "elapsed": 57135.0,
     "user": {
      "displayName": "Dissatisfied Сustomer",
      "photoUrl": "",
      "userId": "18374096525467064227"
     }
    }
   },
   "outputs": [
    {
     "name": "stdout",
     "output_type": "stream",
     "text": [
      "Accuracy of unigram tagger = 92.62%\n"
     ]
    }
   ],
   "source": [
    "import nltk\n",
    "\n",
    "default_tagger = nltk.DefaultTagger('NN')\n",
    "\n",
    "unigram_tagger = nltk.UnigramTagger(train_data, backoff=default_tagger)\n",
    "print('Accuracy of unigram tagger = {:.2%}'.format(unigram_tagger.evaluate(test_data)))"
   ]
  },
  {
   "cell_type": "markdown",
   "metadata": {
    "colab_type": "text",
    "id": "07Ymb_MkbWsF"
   },
   "source": [
    "Добавим вероятности переходов:"
   ]
  },
  {
   "cell_type": "code",
   "execution_count": 9,
   "metadata": {
    "colab_type": "code",
    "id": "vjz_Rk0bbMyH",
    "colab": {
     "base_uri": "https://localhost:8080/",
     "height": 34.0
    },
    "outputId": "fc3f1ac7-f596-484a-bbe5-c60deb15ad20",
    "executionInfo": {
     "status": "ok",
     "timestamp": 1.557986825238E12,
     "user_tz": -180.0,
     "elapsed": 63071.0,
     "user": {
      "displayName": "Dissatisfied Сustomer",
      "photoUrl": "",
      "userId": "18374096525467064227"
     }
    }
   },
   "outputs": [
    {
     "name": "stdout",
     "output_type": "stream",
     "text": [
      "Accuracy of bigram tagger = 93.42%\n"
     ]
    }
   ],
   "source": [
    "bigram_tagger = nltk.BigramTagger(train_data, backoff=unigram_tagger)\n",
    "print('Accuracy of bigram tagger = {:.2%}'.format(bigram_tagger.evaluate(test_data)))"
   ]
  },
  {
   "cell_type": "markdown",
   "metadata": {
    "colab_type": "text",
    "id": "uWMw6QHvbaDd"
   },
   "source": [
    "Обратите внимание, что `backoff` важен:"
   ]
  },
  {
   "cell_type": "code",
   "execution_count": 10,
   "metadata": {
    "colab_type": "code",
    "id": "8XCuxEBVbOY_",
    "colab": {
     "base_uri": "https://localhost:8080/",
     "height": 34.0
    },
    "outputId": "6b070970-7351-4756-df14-e6fd188c8c5b",
    "executionInfo": {
     "status": "ok",
     "timestamp": 1.557986830956E12,
     "user_tz": -180.0,
     "elapsed": 68772.0,
     "user": {
      "displayName": "Dissatisfied Сustomer",
      "photoUrl": "",
      "userId": "18374096525467064227"
     }
    }
   },
   "outputs": [
    {
     "name": "stdout",
     "output_type": "stream",
     "text": [
      "Accuracy of trigram tagger = 23.33%\n"
     ]
    }
   ],
   "source": [
    "trigram_tagger = nltk.TrigramTagger(train_data)\n",
    "print('Accuracy of trigram tagger = {:.2%}'.format(trigram_tagger.evaluate(test_data)))"
   ]
  },
  {
   "cell_type": "markdown",
   "metadata": {
    "colab_type": "text",
    "id": "4t3xyYd__8d-"
   },
   "source": [
    "## Увеличиваем контекст с рекуррентными сетями\n",
    "\n",
    "Униграмная модель работает на удивление хорошо, но мы же собрались учить сеточки.\n",
    "\n",
    "Омонимия - основная причина, почему униграмная модель плоха:  \n",
    "*“he cashed a check at the **bank**”*  \n",
    "vs  \n",
    "*“he sat on the **bank** of the river”*\n",
    "\n",
    "Поэтому нам очень полезно учитывать контекст при предсказании тега.\n",
    "\n",
    "Воспользуемся LSTM - он умеет работать с контекстом очень даже хорошо:\n",
    "\n",
    "![](https://image.ibb.co/kgmoff/Baseline-Tagger.png)\n",
    "\n",
    "Синим показано выделение фичей из слова, LSTM оранжевенький - он строит эмбеддинги слов с учетом контекста, а дальше зелененькая логистическая регрессия делает предсказания тегов."
   ]
  },
  {
   "cell_type": "code",
   "execution_count": 0,
   "metadata": {
    "colab_type": "code",
    "id": "RtRbz1SwgEqc",
    "colab": {}
   },
   "outputs": [],
   "source": [
    "def convert_data(data, word2ind, tag2ind):\n",
    "    X = [[word2ind.get(word, 0) for word, _ in sample] for sample in data]\n",
    "    y = [[tag2ind[tag] for _, tag in sample] for sample in data]\n",
    "    \n",
    "    return X, y\n",
    "\n",
    "X_train, y_train = convert_data(train_data, word2ind, tag2ind)\n",
    "X_val, y_val = convert_data(val_data, word2ind, tag2ind)\n",
    "X_test, y_test = convert_data(test_data, word2ind, tag2ind)"
   ]
  },
  {
   "cell_type": "code",
   "execution_count": 0,
   "metadata": {
    "colab_type": "code",
    "id": "DhsTKZalfih6",
    "colab": {}
   },
   "outputs": [],
   "source": [
    "def iterate_batches(data, batch_size):\n",
    "    X, y = data\n",
    "    n_samples = len(X)\n",
    "\n",
    "    indices = np.arange(n_samples)\n",
    "    np.random.shuffle(indices)\n",
    "    \n",
    "    for start in range(0, n_samples, batch_size):\n",
    "        end = min(start + batch_size, n_samples)\n",
    "        \n",
    "        batch_indices = indices[start:end]\n",
    "        \n",
    "        max_sent_len = max(len(X[ind]) for ind in batch_indices)\n",
    "        X_batch = np.zeros((max_sent_len, len(batch_indices)))\n",
    "        y_batch = np.zeros((max_sent_len, len(batch_indices)))\n",
    "        \n",
    "        for batch_ind, sample_ind in enumerate(batch_indices):\n",
    "            X_batch[:len(X[sample_ind]), batch_ind] = X[sample_ind]\n",
    "            y_batch[:len(y[sample_ind]), batch_ind] = y[sample_ind]\n",
    "            \n",
    "        yield X_batch, y_batch"
   ]
  },
  {
   "cell_type": "code",
   "execution_count": 13,
   "metadata": {
    "colab_type": "code",
    "id": "l4XsRII5kW5x",
    "colab": {
     "base_uri": "https://localhost:8080/",
     "height": 34.0
    },
    "outputId": "53b76439-5d70-4bfa-ac05-22279003ed04",
    "executionInfo": {
     "status": "ok",
     "timestamp": 1.557986832268E12,
     "user_tz": -180.0,
     "elapsed": 70016.0,
     "user": {
      "displayName": "Dissatisfied Сustomer",
      "photoUrl": "",
      "userId": "18374096525467064227"
     }
    }
   },
   "outputs": [
    {
     "data": {
      "text/plain": [
       "((32, 4), (32, 4))"
      ]
     },
     "execution_count": 13,
     "metadata": {
      "tags": []
     },
     "output_type": "execute_result"
    }
   ],
   "source": [
    "X_batch, y_batch = next(iterate_batches((X_train, y_train), 4))\n",
    "\n",
    "X_batch.shape, y_batch.shape"
   ]
  },
  {
   "cell_type": "markdown",
   "metadata": {
    "colab_type": "text",
    "id": "C5I9E9P6eFYv"
   },
   "source": [
    "**Задание** Реализуйте `LSTMTagger`:"
   ]
  },
  {
   "cell_type": "code",
   "execution_count": 0,
   "metadata": {
    "colab_type": "code",
    "id": "WVEHju54d68T",
    "colab": {}
   },
   "outputs": [],
   "source": [
    "class LSTMTagger(nn.Module):\n",
    "    def __init__(self, vocab_size, tagset_size, word_emb_dim=100, lstm_hidden_dim=128, lstm_layers_count=1):\n",
    "        super().__init__()\n",
    "        self.word_embeddings = nn.Embedding(vocab_size, word_emb_dim)\n",
    "        self.lstm = nn.LSTM(word_emb_dim, lstm_hidden_dim, num_layers=lstm_layers_count)\n",
    "        self.last_layer = nn.Linear(lstm_hidden_dim, tagset_size)\n",
    "\n",
    "    def forward(self, inputs):\n",
    "        results = []\n",
    "        for sentence in inputs:\n",
    "            embeds = self.word_embeddings(sentence)\n",
    "            lstm_out, _ = self.lstm(embeds.view(len(sentence), 1, -1))\n",
    "            results.append(self.last_layer(lstm_out.view(len(sentence), -1)))\n",
    "        return torch.stack(results)"
   ]
  },
  {
   "cell_type": "markdown",
   "metadata": {
    "colab_type": "text",
    "id": "q_HA8zyheYGH"
   },
   "source": [
    "**Задание** Научитесь считать accuracy и loss (а заодно проверьте, что модель работает)"
   ]
  },
  {
   "cell_type": "code",
   "execution_count": 20,
   "metadata": {
    "colab_type": "code",
    "id": "jbrxsZ2mehWB",
    "colab": {
     "base_uri": "https://localhost:8080/",
     "height": 34.0
    },
    "outputId": "759db36d-d9dd-4646-f855-964c3aa2d15d",
    "executionInfo": {
     "status": "ok",
     "timestamp": 1.5579870268E12,
     "user_tz": -180.0,
     "elapsed": 468.0,
     "user": {
      "displayName": "Dissatisfied Сustomer",
      "photoUrl": "",
      "userId": "18374096525467064227"
     }
    }
   },
   "outputs": [
    {
     "data": {
      "text/plain": [
       "0.05434782608695652"
      ]
     },
     "execution_count": 20,
     "metadata": {
      "tags": []
     },
     "output_type": "execute_result"
    }
   ],
   "source": [
    "model = LSTMTagger(\n",
    "    vocab_size=len(word2ind),\n",
    "    tagset_size=len(tag2ind)\n",
    ")\n",
    "\n",
    "X_batch, y_batch = torch.LongTensor(X_batch), torch.LongTensor(y_batch)\n",
    "\n",
    "logits = model(X_batch)\n",
    "preds = torch.argmax(logits, dim=-1)\n",
    "\n",
    "def calc_accuracy(preds, gt):\n",
    "    real = (gt != 0).float()\n",
    "    correct = ((preds == gt).float() * real).sum().item()\n",
    "    total = real.sum().item()\n",
    "\n",
    "    return correct, total\n",
    "cor, tot = calc_accuracy(preds, y_batch)\n",
    "cor / tot"
   ]
  },
  {
   "cell_type": "code",
   "execution_count": 0,
   "metadata": {
    "colab_type": "code",
    "id": "GMUyUm1hgpe3",
    "colab": {}
   },
   "outputs": [],
   "source": [
    "criterion = nn.CrossEntropyLoss(ignore_index=0)"
   ]
  },
  {
   "cell_type": "markdown",
   "metadata": {
    "colab_type": "text",
    "id": "nSgV3NPUpcjH"
   },
   "source": [
    "**Задание** Вставьте эти вычисление в функцию:"
   ]
  },
  {
   "cell_type": "code",
   "execution_count": 0,
   "metadata": {
    "colab_type": "code",
    "id": "FprPQ0gllo7b",
    "colab": {}
   },
   "outputs": [],
   "source": [
    "import math\n",
    "from tqdm import tqdm\n",
    "\n",
    "\n",
    "def do_epoch(model, criterion, data, batch_size, optimizer=None, name=None):\n",
    "    epoch_loss = 0\n",
    "    correct_count = 0\n",
    "    sum_count = 0\n",
    "    \n",
    "    is_train = not optimizer is None\n",
    "    name = name or ''\n",
    "    model.train(is_train)\n",
    "    \n",
    "    batches_count = math.ceil(len(data[0]) / batch_size)\n",
    "    \n",
    "    with torch.autograd.set_grad_enabled(is_train):\n",
    "        with tqdm(total=batches_count) as progress_bar:\n",
    "            for i, (X_batch, y_batch) in enumerate(iterate_batches(data, batch_size)):\n",
    "                X_batch, y_batch = LongTensor(X_batch), LongTensor(y_batch)\n",
    "                logits = model(X_batch)\n",
    "                preds = torch.argmax(logits, dim=-1)\n",
    "\n",
    "                loss = criterion(logits.view(-1, logits.shape[-1]), y_batch.view(-1))\n",
    "\n",
    "                epoch_loss += loss.item()\n",
    "\n",
    "                if optimizer:\n",
    "                    optimizer.zero_grad()\n",
    "                    loss.backward()\n",
    "                    optimizer.step()\n",
    "\n",
    "                cur_correct_count, cur_sum_count = calc_accuracy(preds, y_batch)\n",
    "\n",
    "                correct_count += cur_correct_count\n",
    "                sum_count += cur_sum_count\n",
    "\n",
    "                progress_bar.update()\n",
    "                progress_bar.set_description('{:>5s} Loss = {:.5f}, Accuracy = {:.2%}'.format(\n",
    "                    name, loss.item(), cur_correct_count / cur_sum_count)\n",
    "                )\n",
    "                \n",
    "            progress_bar.set_description('{:>5s} Loss = {:.5f}, Accuracy = {:.2%}'.format(\n",
    "                name, epoch_loss / batches_count, correct_count / sum_count)\n",
    "            )\n",
    "\n",
    "    return epoch_loss / batches_count, correct_count / sum_count\n",
    "\n",
    "\n",
    "def fit(model, criterion, optimizer, train_data, epochs_count=1, batch_size=32,\n",
    "        val_data=None, val_batch_size=None):\n",
    "        \n",
    "    if not val_data is None and val_batch_size is None:\n",
    "        val_batch_size = batch_size\n",
    "        \n",
    "    for epoch in range(epochs_count):\n",
    "        name_prefix = '[{} / {}] '.format(epoch + 1, epochs_count)\n",
    "        train_loss, train_acc = do_epoch(model, criterion, train_data, batch_size, optimizer, name_prefix + 'Train:')\n",
    "        \n",
    "        if not val_data is None:\n",
    "            val_loss, val_acc = do_epoch(model, criterion, val_data, val_batch_size, None, name_prefix + '  Val:')"
   ]
  },
  {
   "cell_type": "code",
   "execution_count": 42,
   "metadata": {
    "colab_type": "code",
    "id": "Pqfbeh1ltEYa",
    "colab": {
     "base_uri": "https://localhost:8080/",
     "height": 1754.0
    },
    "outputId": "6a806b8e-6c29-45dc-de49-806531f92298",
    "executionInfo": {
     "status": "ok",
     "timestamp": 1.557994472987E12,
     "user_tz": -180.0,
     "elapsed": 5525013.0,
     "user": {
      "displayName": "Dissatisfied Сustomer",
      "photoUrl": "",
      "userId": "18374096525467064227"
     }
    }
   },
   "outputs": [
    {
     "name": "stderr",
     "output_type": "stream",
     "text": [
      "[1 / 50] Train: Loss = 0.74342, Accuracy = 75.77%: 100%|██████████| 572/572 [01:41<00:00,  5.64it/s]\n",
      "[1 / 50]   Val: Loss = 0.39294, Accuracy = 86.85%: 100%|██████████| 13/13 [00:09<00:00,  1.33it/s]\n",
      "[2 / 50] Train: Loss = 0.32210, Accuracy = 89.25%: 100%|██████████| 572/572 [01:41<00:00,  5.65it/s]\n",
      "[2 / 50]   Val: Loss = 0.26966, Accuracy = 90.84%: 100%|██████████| 13/13 [00:09<00:00,  1.67it/s]\n",
      "[3 / 50] Train: Loss = 0.23322, Accuracy = 92.00%: 100%|██████████| 572/572 [01:40<00:00,  5.49it/s]\n",
      "[3 / 50]   Val: Loss = 0.22401, Accuracy = 91.25%: 100%|██████████| 13/13 [00:08<00:00,  1.58it/s]\n",
      "[4 / 50] Train: Loss = 0.18975, Accuracy = 93.26%: 100%|██████████| 572/572 [01:41<00:00,  5.62it/s]\n",
      "[4 / 50]   Val: Loss = 0.20656, Accuracy = 91.75%: 100%|██████████| 13/13 [00:10<00:00,  1.46it/s]\n",
      "[5 / 50] Train: Loss = 0.16383, Accuracy = 93.97%: 100%|██████████| 572/572 [01:40<00:00,  5.70it/s]\n",
      "[5 / 50]   Val: Loss = 0.19034, Accuracy = 92.23%: 100%|██████████| 13/13 [00:09<00:00,  1.78it/s]\n",
      "[6 / 50] Train: Loss = 0.14644, Accuracy = 94.47%: 100%|██████████| 572/572 [01:40<00:00,  5.68it/s]\n",
      "[6 / 50]   Val: Loss = 0.18422, Accuracy = 92.52%: 100%|██████████| 13/13 [00:09<00:00,  1.75it/s]\n",
      "[7 / 50] Train: Loss = 0.13425, Accuracy = 94.78%: 100%|██████████| 572/572 [01:42<00:00,  5.55it/s]\n",
      "[7 / 50]   Val: Loss = 0.17468, Accuracy = 92.72%: 100%|██████████| 13/13 [00:08<00:00,  1.40it/s]\n",
      "[8 / 50] Train: Loss = 0.12556, Accuracy = 95.04%: 100%|██████████| 572/572 [01:40<00:00,  5.68it/s]\n",
      "[8 / 50]   Val: Loss = 0.17096, Accuracy = 92.83%: 100%|██████████| 13/13 [00:09<00:00,  1.42it/s]\n",
      "[9 / 50] Train: Loss = 0.11927, Accuracy = 95.19%: 100%|██████████| 572/572 [01:41<00:00,  5.66it/s]\n",
      "[9 / 50]   Val: Loss = 0.16863, Accuracy = 92.94%: 100%|██████████| 13/13 [00:09<00:00,  1.33it/s]\n",
      "[10 / 50] Train: Loss = 0.11458, Accuracy = 95.30%: 100%|██████████| 572/572 [01:41<00:00,  5.61it/s]\n",
      "[10 / 50]   Val: Loss = 0.16623, Accuracy = 93.44%: 100%|██████████| 13/13 [00:09<00:00,  1.28it/s]\n",
      "[11 / 50] Train: Loss = 0.11102, Accuracy = 95.42%: 100%|██████████| 572/572 [01:40<00:00,  5.68it/s]\n",
      "[11 / 50]   Val: Loss = 0.17095, Accuracy = 93.03%: 100%|██████████| 13/13 [00:09<00:00,  1.57it/s]\n",
      "[12 / 50] Train: Loss = 0.10835, Accuracy = 95.47%: 100%|██████████| 572/572 [01:42<00:00,  5.58it/s]\n",
      "[12 / 50]   Val: Loss = 0.17024, Accuracy = 92.94%: 100%|██████████| 13/13 [00:09<00:00,  1.84it/s]\n",
      "[13 / 50] Train: Loss = 0.10626, Accuracy = 95.51%: 100%|██████████| 572/572 [01:41<00:00,  5.65it/s]\n",
      "[13 / 50]   Val: Loss = 0.17032, Accuracy = 93.01%: 100%|██████████| 13/13 [00:09<00:00,  1.43it/s]\n",
      "[14 / 50] Train: Loss = 0.10459, Accuracy = 95.56%: 100%|██████████| 572/572 [01:40<00:00,  5.68it/s]\n",
      "[14 / 50]   Val: Loss = 0.16591, Accuracy = 93.04%: 100%|██████████| 13/13 [00:08<00:00,  1.44it/s]\n",
      "[15 / 50] Train: Loss = 0.10332, Accuracy = 95.58%: 100%|██████████| 572/572 [01:42<00:00,  5.57it/s]\n",
      "[15 / 50]   Val: Loss = 0.17284, Accuracy = 92.96%: 100%|██████████| 13/13 [00:09<00:00,  1.56it/s]\n",
      "[16 / 50] Train: Loss = 0.10210, Accuracy = 95.60%: 100%|██████████| 572/572 [01:39<00:00,  5.73it/s]\n",
      "[16 / 50]   Val: Loss = 0.16234, Accuracy = 93.87%: 100%|██████████| 13/13 [00:09<00:00,  1.68it/s]\n",
      "[17 / 50] Train: Loss = 0.10130, Accuracy = 95.62%: 100%|██████████| 572/572 [01:40<00:00,  5.71it/s]\n",
      "[17 / 50]   Val: Loss = 0.16474, Accuracy = 93.62%: 100%|██████████| 13/13 [00:09<00:00,  1.35it/s]\n",
      "[18 / 50] Train: Loss = 0.10068, Accuracy = 95.65%: 100%|██████████| 572/572 [01:42<00:00,  5.57it/s]\n",
      "[18 / 50]   Val: Loss = 0.16653, Accuracy = 93.73%: 100%|██████████| 13/13 [00:09<00:00,  1.40it/s]\n",
      "[19 / 50] Train: Loss = 0.09993, Accuracy = 95.66%: 100%|██████████| 572/572 [01:40<00:00,  5.70it/s]\n",
      "[19 / 50]   Val: Loss = 0.16627, Accuracy = 93.40%: 100%|██████████| 13/13 [00:09<00:00,  1.58it/s]\n",
      "[20 / 50] Train: Loss = 0.09939, Accuracy = 95.68%: 100%|██████████| 572/572 [01:40<00:00,  5.70it/s]\n",
      "[20 / 50]   Val: Loss = 0.16631, Accuracy = 93.68%: 100%|██████████| 13/13 [00:10<00:00,  1.41it/s]\n",
      "[21 / 50] Train: Loss = 0.09877, Accuracy = 95.69%: 100%|██████████| 572/572 [01:42<00:00,  5.59it/s]\n",
      "[21 / 50]   Val: Loss = 0.16233, Accuracy = 94.09%: 100%|██████████| 13/13 [00:09<00:00,  1.65it/s]\n",
      "[22 / 50] Train: Loss = 0.09852, Accuracy = 95.70%: 100%|██████████| 572/572 [01:40<00:00,  5.71it/s]\n",
      "[22 / 50]   Val: Loss = 0.17357, Accuracy = 93.09%: 100%|██████████| 13/13 [00:09<00:00,  1.37it/s]\n",
      "[23 / 50] Train: Loss = 0.09821, Accuracy = 95.71%: 100%|██████████| 572/572 [01:41<00:00,  5.61it/s]\n",
      "[23 / 50]   Val: Loss = 0.17298, Accuracy = 92.95%: 100%|██████████| 13/13 [00:09<00:00,  1.44it/s]\n",
      "[24 / 50] Train: Loss = 0.09792, Accuracy = 95.72%: 100%|██████████| 572/572 [01:40<00:00,  5.69it/s]\n",
      "[24 / 50]   Val: Loss = 0.16760, Accuracy = 93.64%: 100%|██████████| 13/13 [00:09<00:00,  1.68it/s]\n",
      "[25 / 50] Train: Loss = 0.09764, Accuracy = 95.72%: 100%|██████████| 572/572 [01:40<00:00,  5.71it/s]\n",
      "[25 / 50]   Val: Loss = 0.17456, Accuracy = 93.25%: 100%|██████████| 13/13 [00:09<00:00,  1.43it/s]\n",
      "[26 / 50] Train: Loss = 0.09734, Accuracy = 95.72%: 100%|██████████| 572/572 [01:41<00:00,  5.61it/s]\n",
      "[26 / 50]   Val: Loss = 0.17040, Accuracy = 93.20%: 100%|██████████| 13/13 [00:09<00:00,  1.83it/s]\n",
      "[27 / 50] Train: Loss = 0.09723, Accuracy = 95.71%: 100%|██████████| 572/572 [01:40<00:00,  5.68it/s]\n",
      "[27 / 50]   Val: Loss = 0.17246, Accuracy = 93.05%: 100%|██████████| 13/13 [00:09<00:00,  1.48it/s]\n",
      "[28 / 50] Train: Loss = 0.09715, Accuracy = 95.72%: 100%|██████████| 572/572 [01:40<00:00,  5.70it/s]\n",
      "[28 / 50]   Val: Loss = 0.16450, Accuracy = 94.09%: 100%|██████████| 13/13 [00:09<00:00,  1.35it/s]\n",
      "[29 / 50] Train: Loss = 0.09670, Accuracy = 95.74%: 100%|██████████| 572/572 [01:42<00:00,  5.58it/s]\n",
      "[29 / 50]   Val: Loss = 0.17365, Accuracy = 93.16%: 100%|██████████| 13/13 [00:09<00:00,  1.47it/s]\n",
      "[30 / 50] Train: Loss = 0.09648, Accuracy = 95.73%: 100%|██████████| 572/572 [01:40<00:00,  5.70it/s]\n",
      "[30 / 50]   Val: Loss = 0.16916, Accuracy = 93.50%: 100%|██████████| 13/13 [00:09<00:00,  1.56it/s]\n",
      "[31 / 50] Train: Loss = 0.09636, Accuracy = 95.76%: 100%|██████████| 572/572 [01:41<00:00,  5.63it/s]\n",
      "[31 / 50]   Val: Loss = 0.17744, Accuracy = 92.81%: 100%|██████████| 13/13 [00:09<00:00,  1.60it/s]\n",
      "[32 / 50] Train: Loss = 0.09623, Accuracy = 95.75%: 100%|██████████| 572/572 [01:41<00:00,  5.62it/s]\n",
      "[32 / 50]   Val: Loss = 0.17706, Accuracy = 92.77%: 100%|██████████| 13/13 [00:09<00:00,  1.74it/s]\n",
      "[33 / 50] Train: Loss = 0.09604, Accuracy = 95.77%: 100%|██████████| 572/572 [01:40<00:00,  5.69it/s]\n",
      "[33 / 50]   Val: Loss = 0.17334, Accuracy = 93.29%: 100%|██████████| 13/13 [00:08<00:00,  1.48it/s]\n",
      "[34 / 50] Train: Loss = 0.09590, Accuracy = 95.78%: 100%|██████████| 572/572 [01:41<00:00,  5.64it/s]\n",
      "[34 / 50]   Val: Loss = 0.17027, Accuracy = 93.57%: 100%|██████████| 13/13 [00:09<00:00,  1.77it/s]\n",
      "[35 / 50] Train: Loss = 0.09578, Accuracy = 95.76%: 100%|██████████| 572/572 [01:42<00:00,  5.58it/s]\n",
      "[35 / 50]   Val: Loss = 0.17029, Accuracy = 93.49%: 100%|██████████| 13/13 [00:08<00:00,  1.67it/s]\n",
      "[36 / 50] Train: Loss = 0.09577, Accuracy = 95.76%: 100%|██████████| 572/572 [01:39<00:00,  5.75it/s]\n",
      "[36 / 50]   Val: Loss = 0.18642, Accuracy = 92.99%: 100%|██████████| 13/13 [00:09<00:00,  1.37it/s]\n",
      "[37 / 50] Train: Loss = 0.09563, Accuracy = 95.77%: 100%|██████████| 572/572 [01:39<00:00,  5.73it/s]\n",
      "[37 / 50]   Val: Loss = 0.17331, Accuracy = 93.43%: 100%|██████████| 13/13 [00:09<00:00,  1.33it/s]\n",
      "[38 / 50] Train: Loss = 0.09553, Accuracy = 95.78%: 100%|██████████| 572/572 [01:40<00:00,  5.68it/s]\n",
      "[38 / 50]   Val: Loss = 0.17284, Accuracy = 93.03%: 100%|██████████| 13/13 [00:09<00:00,  1.37it/s]\n",
      "[39 / 50] Train: Loss = 0.09533, Accuracy = 95.78%: 100%|██████████| 572/572 [01:41<00:00,  5.65it/s]\n",
      "[39 / 50]   Val: Loss = 0.16917, Accuracy = 93.44%: 100%|██████████| 13/13 [00:08<00:00,  1.42it/s]\n",
      "[40 / 50] Train: Loss = 0.09524, Accuracy = 95.77%: 100%|██████████| 572/572 [01:42<00:00,  5.59it/s]\n",
      "[40 / 50]   Val: Loss = 0.16965, Accuracy = 93.55%: 100%|██████████| 13/13 [00:09<00:00,  1.76it/s]\n",
      "[41 / 50] Train: Loss = 0.09508, Accuracy = 95.76%: 100%|██████████| 572/572 [01:40<00:00,  5.69it/s]\n",
      "[41 / 50]   Val: Loss = 0.17511, Accuracy = 93.09%: 100%|██████████| 13/13 [00:09<00:00,  1.55it/s]\n",
      "[42 / 50] Train: Loss = 0.09498, Accuracy = 95.79%: 100%|██████████| 572/572 [01:41<00:00,  5.64it/s]\n",
      "[42 / 50]   Val: Loss = 0.16743, Accuracy = 93.41%: 100%|██████████| 13/13 [00:09<00:00,  1.71it/s]\n",
      "[43 / 50] Train: Loss = 0.09481, Accuracy = 95.79%: 100%|██████████| 572/572 [01:41<00:00,  5.62it/s]\n",
      "[43 / 50]   Val: Loss = 0.17272, Accuracy = 93.29%: 100%|██████████| 13/13 [00:09<00:00,  1.64it/s]\n",
      "[44 / 50] Train: Loss = 0.09497, Accuracy = 95.79%: 100%|██████████| 572/572 [01:40<00:00,  5.70it/s]\n",
      "[44 / 50]   Val: Loss = 0.16563, Accuracy = 93.82%: 100%|██████████| 13/13 [00:10<00:00,  1.29it/s]\n",
      "[45 / 50] Train: Loss = 0.09493, Accuracy = 95.80%: 100%|██████████| 572/572 [01:40<00:00,  5.67it/s]\n",
      "[45 / 50]   Val: Loss = 0.16641, Accuracy = 93.89%: 100%|██████████| 13/13 [00:09<00:00,  1.45it/s]\n",
      "[46 / 50] Train: Loss = 0.09467, Accuracy = 95.81%: 100%|██████████| 572/572 [01:40<00:00,  5.67it/s]\n",
      "[46 / 50]   Val: Loss = 0.16602, Accuracy = 93.78%: 100%|██████████| 13/13 [00:08<00:00,  1.91it/s]\n",
      "[47 / 50] Train: Loss = 0.09465, Accuracy = 95.80%: 100%|██████████| 572/572 [01:40<00:00,  5.68it/s]\n",
      "[47 / 50]   Val: Loss = 0.17072, Accuracy = 93.31%: 100%|██████████| 13/13 [00:09<00:00,  1.52it/s]\n",
      "[48 / 50] Train: Loss = 0.09448, Accuracy = 95.82%: 100%|██████████| 572/572 [01:40<00:00,  5.67it/s]\n",
      "[48 / 50]   Val: Loss = 0.17425, Accuracy = 93.36%: 100%|██████████| 13/13 [00:09<00:00,  1.66it/s]\n",
      "[49 / 50] Train: Loss = 0.09441, Accuracy = 95.81%: 100%|██████████| 572/572 [01:41<00:00,  5.61it/s]\n",
      "[49 / 50]   Val: Loss = 0.17808, Accuracy = 93.34%: 100%|██████████| 13/13 [00:08<00:00,  1.56it/s]\n",
      "[50 / 50] Train: Loss = 0.09441, Accuracy = 95.81%: 100%|██████████| 572/572 [01:41<00:00,  5.65it/s]\n",
      "[50 / 50]   Val: Loss = 0.17468, Accuracy = 93.34%: 100%|██████████| 13/13 [00:09<00:00,  1.73it/s]\n"
     ]
    }
   ],
   "source": [
    "model = LSTMTagger(\n",
    "    vocab_size=len(word2ind),\n",
    "    tagset_size=len(tag2ind)\n",
    ").cuda()\n",
    "\n",
    "criterion = nn.CrossEntropyLoss(ignore_index=0).cuda()\n",
    "optimizer = optim.Adam(model.parameters())\n",
    "\n",
    "fit(model, criterion, optimizer, train_data=(X_train, y_train), epochs_count=50, batch_size=64, val_data=(X_val, y_val), val_batch_size=512)"
   ]
  },
  {
   "cell_type": "markdown",
   "metadata": {
    "colab_type": "text",
    "id": "m0qGetIhfUE5"
   },
   "source": [
    "### Masking\n",
    "\n",
    "**Задание** Проверьте себя - не считаете ли вы потери и accuracy на паддингах - очень легко получить высокое качество за счет этого.\n",
    "\n",
    "У функции потерь есть параметр `ignore_index`, для таких целей. Для accuracy нужно использовать маскинг - умножение на маску из нулей и единиц, где нули на позициях паддингов (а потом усреднение по ненулевым позициям в маске)."
   ]
  },
  {
   "cell_type": "markdown",
   "metadata": {
    "colab_type": "text",
    "id": "nAfV2dEOfHo5"
   },
   "source": [
    "**Задание** Посчитайте качество модели на тесте. Ожидается результат лучше бейзлайна!"
   ]
  },
  {
   "cell_type": "code",
   "execution_count": 44,
   "metadata": {
    "colab_type": "code",
    "id": "98wr38_rw55D",
    "colab": {
     "base_uri": "https://localhost:8080/",
     "height": 34.0
    },
    "outputId": "8acba77f-0f30-466f-c97a-e4f5017c1354",
    "executionInfo": {
     "status": "ok",
     "timestamp": 1.557994700981E12,
     "user_tz": -180.0,
     "elapsed": 18876.0,
     "user": {
      "displayName": "Dissatisfied Сustomer",
      "photoUrl": "",
      "userId": "18374096525467064227"
     }
    }
   },
   "outputs": [
    {
     "name": "stdout",
     "output_type": "stream",
     "text": [
      "Accuracy of LSTM tagger: 93.39%\n"
     ]
    }
   ],
   "source": [
    "model.eval()\n",
    "\n",
    "correct_count = 0\n",
    "sum_count = 0\n",
    "for X_batch_test, y_batch_test in iterate_batches((X_test, y_test), 64):\n",
    "    X_batch_test, y_batch_test = LongTensor(X_batch_test), LongTensor(y_batch_test)\n",
    "    logits = model(X_batch_test)\n",
    "    preds = torch.argmax(logits, dim=-1)\n",
    "    cur_correct_count, cur_sum_count = calc_accuracy(preds, y_batch_test)\n",
    "    correct_count += cur_correct_count\n",
    "    sum_count += cur_sum_count\n",
    "print(\"Accuracy of LSTM tagger: {:.2%}\".format( correct_count / sum_count ) )\n",
    "\n"
   ]
  },
  {
   "cell_type": "markdown",
   "metadata": {
    "colab_type": "text",
    "id": "PXUTSFaEHbDG"
   },
   "source": [
    "### Bidirectional LSTM\n",
    "\n",
    "Благодаря BiLSTM можно использовать сразу оба контеста при предсказании тега слова. Т.е. для каждого токена $w_i$ forward LSTM будет выдавать представление $\\mathbf{f_i} \\sim (w_1, \\ldots, w_i)$ - построенное по всему левому контексту - и $\\mathbf{b_i} \\sim (w_n, \\ldots, w_i)$ - представление правого контекста. Их конкатенация автоматически захватит весь доступный контекст слова: $\\mathbf{h_i} = [\\mathbf{f_i}, \\mathbf{b_i}] \\sim (w_1, \\ldots, w_n)$.\n",
    "\n",
    "![BiLSTM](https://www.researchgate.net/profile/Wang_Ling/publication/280912217/figure/fig2/AS:391505383575555@1470353565299/Illustration-of-our-neural-network-for-POS-tagging.png)  \n",
    "*From [Finding Function in Form: Compositional Character Models for Open Vocabulary Word Representation](https://arxiv.org/abs/1508.02096)*\n",
    "\n",
    "**Задание** Добавьте Bidirectional LSTM."
   ]
  },
  {
   "cell_type": "code",
   "execution_count": 0,
   "metadata": {
    "id": "9nE3C3XUwBoR",
    "colab_type": "code",
    "colab": {}
   },
   "outputs": [],
   "source": [
    ""
   ]
  },
  {
   "cell_type": "markdown",
   "metadata": {
    "colab_type": "text",
    "id": "ZTXmYGD_ANhm"
   },
   "source": [
    "### Предобученные эмбеддинги\n",
    "\n",
    "Мы знаем, какая клёвая вещь - предобученные эмбеддинги. При текущем размере обучающей выборки еще можно было учить их и с нуля - с меньшей было бы совсем плохо.\n",
    "\n",
    "Поэтому стандартный пайплайн - скачать эмбеддинги, засунуть их в сеточку. Запустим его:"
   ]
  },
  {
   "cell_type": "code",
   "execution_count": 45,
   "metadata": {
    "colab_type": "code",
    "id": "uZpY_Q1xZ18h",
    "colab": {
     "base_uri": "https://localhost:8080/",
     "height": 34.0
    },
    "outputId": "660790e8-19e2-4d54-d2c3-2733736fbb2c",
    "executionInfo": {
     "status": "ok",
     "timestamp": 1.557994902105E12,
     "user_tz": -180.0,
     "elapsed": 73212.0,
     "user": {
      "displayName": "Dissatisfied Сustomer",
      "photoUrl": "",
      "userId": "18374096525467064227"
     }
    }
   },
   "outputs": [
    {
     "name": "stdout",
     "output_type": "stream",
     "text": [
      "[==================================================] 100.0% 128.1/128.1MB downloaded\n"
     ]
    }
   ],
   "source": [
    "import gensim.downloader as api\n",
    "\n",
    "w2v_model = api.load('glove-wiki-gigaword-100')"
   ]
  },
  {
   "cell_type": "markdown",
   "metadata": {
    "colab_type": "text",
    "id": "KYogOoKlgtcf"
   },
   "source": [
    "Построим подматрицу для слов из нашей тренировочной выборки:"
   ]
  },
  {
   "cell_type": "code",
   "execution_count": 46,
   "metadata": {
    "colab_type": "code",
    "id": "VsCstxiO03oT",
    "colab": {
     "base_uri": "https://localhost:8080/",
     "height": 34.0
    },
    "outputId": "087eaf2b-c46b-4951-8882-ac18f32af281",
    "executionInfo": {
     "status": "ok",
     "timestamp": 1.557994930212E12,
     "user_tz": -180.0,
     "elapsed": 677.0,
     "user": {
      "displayName": "Dissatisfied Сustomer",
      "photoUrl": "",
      "userId": "18374096525467064227"
     }
    }
   },
   "outputs": [
    {
     "name": "stdout",
     "output_type": "stream",
     "text": [
      "Know 38736 out of 45441 word embeddings\n"
     ]
    }
   ],
   "source": [
    "known_count = 0\n",
    "embeddings = np.zeros((len(word2ind), w2v_model.vectors.shape[1]))\n",
    "for word, ind in word2ind.items():\n",
    "    word = word.lower()\n",
    "    if word in w2v_model.vocab:\n",
    "        embeddings[ind] = w2v_model.get_vector(word)\n",
    "        known_count += 1\n",
    "        \n",
    "print('Know {} out of {} word embeddings'.format(known_count, len(word2ind)))"
   ]
  },
  {
   "cell_type": "markdown",
   "metadata": {
    "colab_type": "text",
    "id": "HcG7i-R8hbY3"
   },
   "source": [
    "**Задание** Сделайте модель с предобученной матрицей. Используйте `nn.Embedding.from_pretrained`."
   ]
  },
  {
   "cell_type": "code",
   "execution_count": 0,
   "metadata": {
    "colab_type": "code",
    "id": "LxaRBpQd0pat",
    "colab": {}
   },
   "outputs": [],
   "source": [
    "class LSTMTaggerWithPretrainedEmbs(nn.Module):\n",
    "    def __init__(self, embeddings, tagset_size, lstm_hidden_dim=64, lstm_layers_count=1):\n",
    "        super().__init__()\n",
    "        self.word_embeddings = nn.Embedding.from_pretrained(FloatTensor(embeddings))\n",
    "        self.lstm = nn.LSTM(self.word_embeddings.embedding_dim, lstm_hidden_dim, num_layers=lstm_layers_count, bidirectional=True)\n",
    "        self.last_layer = nn.Linear(lstm_hidden_dim* 2, tagset_size)\n",
    "\n",
    "    def forward(self, inputs):\n",
    "        results = []\n",
    "        for sentence in inputs:\n",
    "            embeds = self.word_embeddings(sentence)\n",
    "            lstm_out, _ = self.lstm(embeds.view(len(sentence), 1, -1))\n",
    "            results.append(self.last_layer(lstm_out.view(len(sentence), -1)))\n",
    "        return torch.stack(results)"
   ]
  },
  {
   "cell_type": "code",
   "execution_count": 86,
   "metadata": {
    "colab_type": "code",
    "id": "EBtI6BDE-Fc7",
    "colab": {
     "base_uri": "https://localhost:8080/",
     "height": 1754.0
    },
    "outputId": "afe37081-7cba-4c3e-a14e-45485504130d",
    "executionInfo": {
     "status": "ok",
     "timestamp": 1.55800911451E12,
     "user_tz": -180.0,
     "elapsed": 878391.0,
     "user": {
      "displayName": "Dissatisfied Сustomer",
      "photoUrl": "",
      "userId": "18374096525467064227"
     }
    }
   },
   "outputs": [
    {
     "name": "stderr",
     "output_type": "stream",
     "text": [
      "[1 / 50] Train: Loss = 0.66514, Accuracy = 80.34%: 100%|██████████| 572/572 [02:51<00:00,  3.34it/s]\n",
      "[1 / 50]   Val: Loss = 0.35334, Accuracy = 89.33%: 100%|██████████| 13/13 [00:18<00:00,  1.34s/it]\n",
      "[2 / 50] Train: Loss = 0.28409, Accuracy = 91.16%: 100%|██████████| 572/572 [02:53<00:00,  3.30it/s]\n",
      "[2 / 50]   Val: Loss = 0.26803, Accuracy = 91.41%: 100%|██████████| 13/13 [00:17<00:00,  1.27s/it]\n",
      "[3 / 50] Train: Loss = 0.22663, Accuracy = 92.65%: 100%|██████████| 572/572 [02:51<00:00,  3.34it/s]\n",
      "[3 / 50]   Val: Loss = 0.23315, Accuracy = 92.27%: 100%|██████████| 13/13 [00:17<00:00,  1.41s/it]\n",
      "[4 / 50] Train: Loss = 0.19997, Accuracy = 93.26%: 100%|██████████| 572/572 [02:52<00:00,  3.32it/s]\n",
      "[4 / 50]   Val: Loss = 0.21428, Accuracy = 92.65%: 100%|██████████| 13/13 [00:18<00:00,  1.29s/it]\n",
      "[5 / 50] Train: Loss = 0.18507, Accuracy = 93.62%: 100%|██████████| 572/572 [02:53<00:00,  3.30it/s]\n",
      "[5 / 50]   Val: Loss = 0.20666, Accuracy = 92.96%: 100%|██████████| 13/13 [00:17<00:00,  1.37s/it]\n",
      "[6 / 50] Train: Loss = 0.17581, Accuracy = 93.81%: 100%|██████████| 572/572 [02:51<00:00,  3.34it/s]\n",
      "[6 / 50]   Val: Loss = 0.19733, Accuracy = 93.18%: 100%|██████████| 13/13 [00:18<00:00,  1.29s/it]\n",
      "[7 / 50] Train: Loss = 0.16895, Accuracy = 93.94%: 100%|██████████| 572/572 [02:51<00:00,  3.33it/s]\n",
      "[7 / 50]   Val: Loss = 0.19748, Accuracy = 92.92%: 100%|██████████| 13/13 [00:18<00:00,  1.37s/it]\n",
      "[8 / 50] Train: Loss = 0.16407, Accuracy = 94.04%: 100%|██████████| 572/572 [02:50<00:00,  3.36it/s]\n",
      "[8 / 50]   Val: Loss = 0.18889, Accuracy = 93.16%: 100%|██████████| 13/13 [00:18<00:00,  1.30s/it]\n",
      "[9 / 50] Train: Loss = 0.16084, Accuracy = 94.11%: 100%|██████████| 572/572 [02:52<00:00,  4.06it/s]\n",
      "[9 / 50]   Val: Loss = 0.18590, Accuracy = 93.38%: 100%|██████████| 13/13 [00:18<00:00,  1.17s/it]\n",
      "[10 / 50] Train: Loss = 0.15751, Accuracy = 94.15%: 100%|██████████| 572/572 [02:53<00:00,  4.03it/s]\n",
      "[10 / 50]   Val: Loss = 0.18579, Accuracy = 93.37%: 100%|██████████| 13/13 [00:18<00:00,  1.20s/it]\n",
      "[11 / 50] Train: Loss = 0.15523, Accuracy = 94.23%: 100%|██████████| 572/572 [02:50<00:00,  3.35it/s]\n",
      "[11 / 50]   Val: Loss = 0.18264, Accuracy = 93.42%: 100%|██████████| 13/13 [00:18<00:00,  1.26s/it]\n",
      "[12 / 50] Train: Loss = 0.15298, Accuracy = 94.26%: 100%|██████████| 572/572 [02:51<00:00,  3.34it/s]\n",
      "[12 / 50]   Val: Loss = 0.18017, Accuracy = 93.42%: 100%|██████████| 13/13 [00:16<00:00,  1.10s/it]\n",
      "[13 / 50] Train: Loss = 0.15096, Accuracy = 94.31%: 100%|██████████| 572/572 [02:50<00:00,  3.35it/s]\n",
      "[13 / 50]   Val: Loss = 0.18090, Accuracy = 93.43%: 100%|██████████| 13/13 [00:16<00:00,  1.54s/it]\n",
      "[14 / 50] Train: Loss = 0.14961, Accuracy = 94.31%: 100%|██████████| 572/572 [02:51<00:00,  4.66it/s]\n",
      "[14 / 50]   Val: Loss = 0.17890, Accuracy = 93.48%: 100%|██████████| 13/13 [00:18<00:00,  1.12s/it]\n",
      "[15 / 50] Train: Loss = 0.14832, Accuracy = 94.35%: 100%|██████████| 572/572 [02:52<00:00,  4.55it/s]\n",
      "[15 / 50]   Val: Loss = 0.17779, Accuracy = 93.50%: 100%|██████████| 13/13 [00:18<00:00,  1.42s/it]\n",
      "[16 / 50] Train: Loss = 0.14681, Accuracy = 94.37%: 100%|██████████| 572/572 [02:51<00:00,  3.33it/s]\n",
      "[16 / 50]   Val: Loss = 0.17824, Accuracy = 93.48%: 100%|██████████| 13/13 [00:18<00:00,  1.35s/it]\n",
      "[17 / 50] Train: Loss = 0.14583, Accuracy = 94.40%: 100%|██████████| 572/572 [02:51<00:00,  3.34it/s]\n",
      "[17 / 50]   Val: Loss = 0.17613, Accuracy = 93.49%: 100%|██████████| 13/13 [00:17<00:00,  1.18s/it]\n",
      "[18 / 50] Train: Loss = 0.14476, Accuracy = 94.41%: 100%|██████████| 572/572 [02:51<00:00,  3.34it/s]\n",
      "[18 / 50]   Val: Loss = 0.17686, Accuracy = 93.47%: 100%|██████████| 13/13 [00:19<00:00,  1.17s/it]\n",
      "[19 / 50] Train: Loss = 0.14390, Accuracy = 94.42%: 100%|██████████| 572/572 [02:51<00:00,  3.34it/s]\n",
      "[19 / 50]   Val: Loss = 0.17648, Accuracy = 93.42%: 100%|██████████| 13/13 [00:18<00:00,  1.27s/it]\n",
      "[20 / 50] Train: Loss = 0.14278, Accuracy = 94.47%: 100%|██████████| 572/572 [02:52<00:00,  3.31it/s]\n",
      "[20 / 50]   Val: Loss = 0.17535, Accuracy = 93.50%: 100%|██████████| 13/13 [00:18<00:00,  1.25s/it]\n",
      "[21 / 50] Train: Loss = 0.14223, Accuracy = 94.45%: 100%|██████████| 572/572 [02:51<00:00,  3.33it/s]\n",
      "[21 / 50]   Val: Loss = 0.17631, Accuracy = 93.34%: 100%|██████████| 13/13 [00:19<00:00,  1.46s/it]\n",
      "[22 / 50] Train: Loss = 0.14168, Accuracy = 94.48%: 100%|██████████| 572/572 [02:52<00:00,  3.31it/s]\n",
      "[22 / 50]   Val: Loss = 0.17411, Accuracy = 93.51%: 100%|██████████| 13/13 [00:19<00:00,  1.27s/it]\n",
      "[23 / 50] Train: Loss = 0.14085, Accuracy = 94.50%: 100%|██████████| 572/572 [02:51<00:00,  4.01it/s]\n",
      "[23 / 50]   Val: Loss = 0.17206, Accuracy = 93.59%: 100%|██████████| 13/13 [00:18<00:00,  1.21s/it]\n",
      "[24 / 50] Train: Loss = 0.14028, Accuracy = 94.51%: 100%|██████████| 572/572 [02:52<00:00,  3.32it/s]\n",
      "[24 / 50]   Val: Loss = 0.17274, Accuracy = 93.48%: 100%|██████████| 13/13 [00:17<00:00,  1.13s/it]\n",
      "[25 / 50] Train: Loss = 0.13984, Accuracy = 94.51%: 100%|██████████| 572/572 [02:51<00:00,  3.33it/s]\n",
      "[25 / 50]   Val: Loss = 0.17539, Accuracy = 93.48%: 100%|██████████| 13/13 [00:18<00:00,  1.14s/it]\n",
      "[26 / 50] Train: Loss = 0.13912, Accuracy = 94.52%: 100%|██████████| 572/572 [02:54<00:00,  3.28it/s]\n",
      "[26 / 50]   Val: Loss = 0.17302, Accuracy = 93.59%: 100%|██████████| 13/13 [00:19<00:00,  1.34s/it]\n",
      "[27 / 50] Train: Loss = 0.13887, Accuracy = 94.54%: 100%|██████████| 572/572 [02:54<00:00,  3.28it/s]\n",
      "[27 / 50]   Val: Loss = 0.17269, Accuracy = 93.36%: 100%|██████████| 13/13 [00:17<00:00,  1.39s/it]\n",
      "[28 / 50] Train: Loss = 0.13821, Accuracy = 94.53%: 100%|██████████| 572/572 [02:53<00:00,  3.29it/s]\n",
      "[28 / 50]   Val: Loss = 0.17162, Accuracy = 93.65%: 100%|██████████| 13/13 [00:17<00:00,  1.22s/it]\n",
      "[29 / 50] Train: Loss = 0.13745, Accuracy = 94.57%: 100%|██████████| 572/572 [02:52<00:00,  3.31it/s]\n",
      "[29 / 50]   Val: Loss = 0.17314, Accuracy = 93.50%: 100%|██████████| 13/13 [00:19<00:00,  1.41s/it]\n",
      "[30 / 50] Train: Loss = 0.13723, Accuracy = 94.55%: 100%|██████████| 572/572 [02:52<00:00,  3.31it/s]\n",
      "[30 / 50]   Val: Loss = 0.17195, Accuracy = 93.53%: 100%|██████████| 13/13 [00:18<00:00,  1.45s/it]\n",
      "[31 / 50] Train: Loss = 0.13674, Accuracy = 94.58%: 100%|██████████| 572/572 [02:52<00:00,  3.32it/s]\n",
      "[31 / 50]   Val: Loss = 0.17113, Accuracy = 93.58%: 100%|██████████| 13/13 [00:19<00:00,  1.35s/it]\n",
      "[32 / 50] Train: Loss = 0.13646, Accuracy = 94.58%: 100%|██████████| 572/572 [02:54<00:00,  3.79it/s]\n",
      "[32 / 50]   Val: Loss = 0.17073, Accuracy = 93.56%: 100%|██████████| 13/13 [00:18<00:00,  1.54s/it]\n",
      "[33 / 50] Train: Loss = 0.13582, Accuracy = 94.59%: 100%|██████████| 572/572 [02:53<00:00,  3.29it/s]\n",
      "[33 / 50]   Val: Loss = 0.17113, Accuracy = 93.51%: 100%|██████████| 13/13 [00:18<00:00,  1.17s/it]\n",
      "[34 / 50] Train: Loss = 0.13582, Accuracy = 94.58%: 100%|██████████| 572/572 [02:52<00:00,  3.32it/s]\n",
      "[34 / 50]   Val: Loss = 0.17035, Accuracy = 93.59%: 100%|██████████| 13/13 [00:18<00:00,  1.25s/it]\n",
      "[35 / 50] Train: Loss = 0.13533, Accuracy = 94.58%: 100%|██████████| 572/572 [02:54<00:00,  3.93it/s]\n",
      "[35 / 50]   Val: Loss = 0.17119, Accuracy = 93.60%: 100%|██████████| 13/13 [00:17<00:00,  1.33s/it]\n",
      "[36 / 50] Train: Loss = 0.13477, Accuracy = 94.62%: 100%|██████████| 572/572 [02:53<00:00,  3.30it/s]\n",
      "[36 / 50]   Val: Loss = 0.17340, Accuracy = 93.64%: 100%|██████████| 13/13 [00:18<00:00,  1.17s/it]\n",
      "[37 / 50] Train: Loss = 0.13455, Accuracy = 94.62%: 100%|██████████| 572/572 [02:53<00:00,  3.29it/s]\n",
      "[37 / 50]   Val: Loss = 0.17216, Accuracy = 93.36%: 100%|██████████| 13/13 [00:17<00:00,  1.06s/it]\n",
      "[38 / 50] Train: Loss = 0.13435, Accuracy = 94.63%: 100%|██████████| 572/572 [02:54<00:00,  3.29it/s]\n",
      "[38 / 50]   Val: Loss = 0.17228, Accuracy = 93.61%: 100%|██████████| 13/13 [00:18<00:00,  1.43s/it]\n",
      "[39 / 50] Train: Loss = 0.13406, Accuracy = 94.64%: 100%|██████████| 572/572 [02:51<00:00,  4.35it/s]\n",
      "[39 / 50]   Val: Loss = 0.17072, Accuracy = 93.65%: 100%|██████████| 13/13 [00:17<00:00,  1.07s/it]\n",
      "[40 / 50] Train: Loss = 0.13389, Accuracy = 94.61%: 100%|██████████| 572/572 [02:54<00:00,  3.28it/s]\n",
      "[40 / 50]   Val: Loss = 0.17146, Accuracy = 93.63%: 100%|██████████| 13/13 [00:17<00:00,  1.09s/it]\n",
      "[41 / 50] Train: Loss = 0.13347, Accuracy = 94.66%: 100%|██████████| 572/572 [02:52<00:00,  3.32it/s]\n",
      "[41 / 50]   Val: Loss = 0.17001, Accuracy = 93.57%: 100%|██████████| 13/13 [00:18<00:00,  1.42s/it]\n",
      "[42 / 50] Train: Loss = 0.13320, Accuracy = 94.65%: 100%|██████████| 572/572 [02:52<00:00,  3.55it/s]\n",
      "[42 / 50]   Val: Loss = 0.17012, Accuracy = 93.58%: 100%|██████████| 13/13 [00:19<00:00,  1.11s/it]\n",
      "[43 / 50] Train: Loss = 0.13313, Accuracy = 94.64%: 100%|██████████| 572/572 [02:54<00:00,  3.28it/s]\n",
      "[43 / 50]   Val: Loss = 0.16884, Accuracy = 93.63%: 100%|██████████| 13/13 [00:17<00:00,  1.17s/it]\n",
      "[44 / 50] Train: Loss = 0.13257, Accuracy = 94.66%: 100%|██████████| 572/572 [02:53<00:00,  4.06it/s]\n",
      "[44 / 50]   Val: Loss = 0.17283, Accuracy = 93.64%: 100%|██████████| 13/13 [00:18<00:00,  1.31s/it]\n",
      "[45 / 50] Train: Loss = 0.13252, Accuracy = 94.66%: 100%|██████████| 572/572 [02:53<00:00,  3.30it/s]\n",
      "[45 / 50]   Val: Loss = 0.16967, Accuracy = 93.55%: 100%|██████████| 13/13 [00:17<00:00,  1.46s/it]\n",
      "[46 / 50] Train: Loss = 0.13229, Accuracy = 94.66%: 100%|██████████| 572/572 [02:57<00:00,  3.22it/s]\n",
      "[46 / 50]   Val: Loss = 0.16975, Accuracy = 93.59%: 100%|██████████| 13/13 [00:19<00:00,  1.23s/it]\n",
      "[47 / 50] Train: Loss = 0.13186, Accuracy = 94.67%: 100%|██████████| 572/572 [02:52<00:00,  3.32it/s]\n",
      "[47 / 50]   Val: Loss = 0.17051, Accuracy = 93.48%: 100%|██████████| 13/13 [00:19<00:00,  1.23s/it]\n",
      "[48 / 50] Train: Loss = 0.13168, Accuracy = 94.68%: 100%|██████████| 572/572 [02:53<00:00,  3.29it/s]\n",
      "[48 / 50]   Val: Loss = 0.16939, Accuracy = 93.61%: 100%|██████████| 13/13 [00:18<00:00,  1.36s/it]\n",
      "[49 / 50] Train: Loss = 0.13143, Accuracy = 94.69%: 100%|██████████| 572/572 [02:53<00:00,  3.30it/s]\n",
      "[49 / 50]   Val: Loss = 0.16899, Accuracy = 93.57%: 100%|██████████| 13/13 [00:18<00:00,  1.33s/it]\n",
      "[50 / 50] Train: Loss = 0.13135, Accuracy = 94.69%: 100%|██████████| 572/572 [02:53<00:00,  3.30it/s]\n",
      "[50 / 50]   Val: Loss = 0.17054, Accuracy = 93.60%: 100%|██████████| 13/13 [00:18<00:00,  1.03s/it]\n"
     ]
    }
   ],
   "source": [
    "model = LSTMTaggerWithPretrainedEmbs(\n",
    "    embeddings=embeddings,\n",
    "    tagset_size=len(tag2ind)\n",
    ").cuda()\n",
    "\n",
    "criterion = nn.CrossEntropyLoss(ignore_index=0)\n",
    "optimizer = optim.Adam(model.parameters())\n",
    "\n",
    "fit(model, criterion, optimizer, train_data=(X_train, y_train), epochs_count=50, batch_size=64, val_data=(X_val, y_val), val_batch_size=512)"
   ]
  },
  {
   "cell_type": "markdown",
   "metadata": {
    "colab_type": "text",
    "id": "2Ne_8f24h8kg"
   },
   "source": [
    "**Задание** Оцените качество модели на тестовой выборке. Обратите внимание, вовсе не обязательно ограничиваться векторами из урезанной матрицы - вполне могут найтись слова в тесте, которых не было в трейне и для которых есть эмбеддинги.\n",
    "\n",
    "Добейтесь качества лучше прошлых моделей."
   ]
  },
  {
   "cell_type": "code",
   "execution_count": 87,
   "metadata": {
    "colab_type": "code",
    "id": "HPUuAPGhEGVR",
    "colab": {
     "base_uri": "https://localhost:8080/",
     "height": 34.0
    },
    "outputId": "e01a5933-993b-40ab-db50-258ee9cfd0a4",
    "executionInfo": {
     "status": "ok",
     "timestamp": 1.558009144752E12,
     "user_tz": -180.0,
     "elapsed": 29710.0,
     "user": {
      "displayName": "Dissatisfied Сustomer",
      "photoUrl": "",
      "userId": "18374096525467064227"
     }
    }
   },
   "outputs": [
    {
     "name": "stdout",
     "output_type": "stream",
     "text": [
      "Accuracy of LSTM with embeddings tagger: 93.63%\n"
     ]
    }
   ],
   "source": [
    "model.eval()\n",
    "\n",
    "correct_count = 0\n",
    "sum_count = 0\n",
    "for X_batch_test, y_batch_test in iterate_batches((X_test, y_test), 64):\n",
    "    X_batch_test, y_batch_test = LongTensor(X_batch_test), LongTensor(y_batch_test)\n",
    "    logits = model(X_batch_test)\n",
    "    preds = torch.argmax(logits, dim=-1)\n",
    "    cur_correct_count, cur_sum_count = calc_accuracy(preds, y_batch_test)\n",
    "    correct_count += cur_correct_count\n",
    "    sum_count += cur_sum_count\n",
    "print(\"Accuracy of LSTM with embeddings tagger: {:.2%}\".format( correct_count / sum_count ) )"
   ]
  }
 ],
 "metadata": {
  "colab": {
   "name": "RNNs.ipynb",
   "version": "0.3.2",
   "provenance": [],
   "collapsed_sections": []
  },
  "language_info": {
   "codemirror_mode": {
    "name": "ipython",
    "version": 3
   },
   "file_extension": ".py",
   "mimetype": "text/x-python",
   "name": "python",
   "nbconvert_exporter": "python",
   "pygments_lexer": "ipython3",
   "version": "3.6.7"
  },
  "kernelspec": {
   "display_name": "Python 3",
   "language": "python",
   "name": "python3"
  },
  "accelerator": "GPU"
 },
 "nbformat": 4,
 "nbformat_minor": 0
}
